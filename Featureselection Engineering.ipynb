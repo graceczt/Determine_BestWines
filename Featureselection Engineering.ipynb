{
  "cells": [
    {
      "cell_type": "markdown",
      "metadata": {
        "id": "UWARFzbRXF5b"
      },
      "source": [
        "## Part1: Feature Engineering Polynormial Selection\n",
        "## Part2: LASSO and RIDGE regression"
      ]
    },
    {
      "cell_type": "code",
      "execution_count": 1021,
      "metadata": {
        "id": "J0BM6vo-XF5f"
      },
      "outputs": [],
      "source": [
        "import pandas as pd\n",
        "import numpy as np\n",
        "import matplotlib.pyplot as plt\n",
        "import seaborn as sns\n",
        "\n",
        "from sklearn.preprocessing import PolynomialFeatures\n",
        "\n",
        "%matplotlib inline"
      ]
    },
    {
      "cell_type": "markdown",
      "metadata": {
        "id": "FACR8kagXF5p"
      },
      "source": [
        "#### Load Data"
      ]
    },
    {
      "cell_type": "code",
      "execution_count": 1022,
      "metadata": {
        "id": "SmCNaDCfXF5q"
      },
      "outputs": [],
      "source": [
        "# Read CSV\n",
        "wine_csv = 'winequality_merged.csv'"
      ]
    },
    {
      "cell_type": "code",
      "execution_count": 1023,
      "metadata": {},
      "outputs": [],
      "source": [
        "wine = pd.read_csv('/Users/gracechongzuting/Desktop/winequality_merged.csv')"
      ]
    },
    {
      "cell_type": "code",
      "execution_count": 1024,
      "metadata": {},
      "outputs": [
        {
          "data": {
            "text/html": [
              "<div>\n",
              "<style scoped>\n",
              "    .dataframe tbody tr th:only-of-type {\n",
              "        vertical-align: middle;\n",
              "    }\n",
              "\n",
              "    .dataframe tbody tr th {\n",
              "        vertical-align: top;\n",
              "    }\n",
              "\n",
              "    .dataframe thead th {\n",
              "        text-align: right;\n",
              "    }\n",
              "</style>\n",
              "<table border=\"1\" class=\"dataframe\">\n",
              "  <thead>\n",
              "    <tr style=\"text-align: right;\">\n",
              "      <th></th>\n",
              "      <th>fixed acidity</th>\n",
              "      <th>volatile acidity</th>\n",
              "      <th>citric acid</th>\n",
              "      <th>residual sugar</th>\n",
              "      <th>chlorides</th>\n",
              "      <th>free sulfur dioxide</th>\n",
              "      <th>total sulfur dioxide</th>\n",
              "      <th>density</th>\n",
              "      <th>pH</th>\n",
              "      <th>sulphates</th>\n",
              "      <th>alcohol</th>\n",
              "      <th>quality</th>\n",
              "      <th>red_wine</th>\n",
              "    </tr>\n",
              "  </thead>\n",
              "  <tbody>\n",
              "    <tr>\n",
              "      <th>0</th>\n",
              "      <td>7.4</td>\n",
              "      <td>0.70</td>\n",
              "      <td>0.00</td>\n",
              "      <td>1.9</td>\n",
              "      <td>0.076</td>\n",
              "      <td>11.0</td>\n",
              "      <td>34.0</td>\n",
              "      <td>0.9978</td>\n",
              "      <td>3.51</td>\n",
              "      <td>0.56</td>\n",
              "      <td>9.4</td>\n",
              "      <td>5</td>\n",
              "      <td>1</td>\n",
              "    </tr>\n",
              "    <tr>\n",
              "      <th>1</th>\n",
              "      <td>7.8</td>\n",
              "      <td>0.88</td>\n",
              "      <td>0.00</td>\n",
              "      <td>2.6</td>\n",
              "      <td>0.098</td>\n",
              "      <td>25.0</td>\n",
              "      <td>67.0</td>\n",
              "      <td>0.9968</td>\n",
              "      <td>3.20</td>\n",
              "      <td>0.68</td>\n",
              "      <td>9.8</td>\n",
              "      <td>5</td>\n",
              "      <td>1</td>\n",
              "    </tr>\n",
              "    <tr>\n",
              "      <th>2</th>\n",
              "      <td>7.8</td>\n",
              "      <td>0.76</td>\n",
              "      <td>0.04</td>\n",
              "      <td>2.3</td>\n",
              "      <td>0.092</td>\n",
              "      <td>15.0</td>\n",
              "      <td>54.0</td>\n",
              "      <td>0.9970</td>\n",
              "      <td>3.26</td>\n",
              "      <td>0.65</td>\n",
              "      <td>9.8</td>\n",
              "      <td>5</td>\n",
              "      <td>1</td>\n",
              "    </tr>\n",
              "    <tr>\n",
              "      <th>3</th>\n",
              "      <td>11.2</td>\n",
              "      <td>0.28</td>\n",
              "      <td>0.56</td>\n",
              "      <td>1.9</td>\n",
              "      <td>0.075</td>\n",
              "      <td>17.0</td>\n",
              "      <td>60.0</td>\n",
              "      <td>0.9980</td>\n",
              "      <td>3.16</td>\n",
              "      <td>0.58</td>\n",
              "      <td>9.8</td>\n",
              "      <td>6</td>\n",
              "      <td>1</td>\n",
              "    </tr>\n",
              "    <tr>\n",
              "      <th>4</th>\n",
              "      <td>7.4</td>\n",
              "      <td>0.70</td>\n",
              "      <td>0.00</td>\n",
              "      <td>1.9</td>\n",
              "      <td>0.076</td>\n",
              "      <td>11.0</td>\n",
              "      <td>34.0</td>\n",
              "      <td>0.9978</td>\n",
              "      <td>3.51</td>\n",
              "      <td>0.56</td>\n",
              "      <td>9.4</td>\n",
              "      <td>5</td>\n",
              "      <td>1</td>\n",
              "    </tr>\n",
              "  </tbody>\n",
              "</table>\n",
              "</div>"
            ],
            "text/plain": [
              "   fixed acidity  volatile acidity  citric acid  residual sugar  chlorides  \\\n",
              "0            7.4              0.70         0.00             1.9      0.076   \n",
              "1            7.8              0.88         0.00             2.6      0.098   \n",
              "2            7.8              0.76         0.04             2.3      0.092   \n",
              "3           11.2              0.28         0.56             1.9      0.075   \n",
              "4            7.4              0.70         0.00             1.9      0.076   \n",
              "\n",
              "   free sulfur dioxide  total sulfur dioxide  density    pH  sulphates  \\\n",
              "0                 11.0                  34.0   0.9978  3.51       0.56   \n",
              "1                 25.0                  67.0   0.9968  3.20       0.68   \n",
              "2                 15.0                  54.0   0.9970  3.26       0.65   \n",
              "3                 17.0                  60.0   0.9980  3.16       0.58   \n",
              "4                 11.0                  34.0   0.9978  3.51       0.56   \n",
              "\n",
              "   alcohol  quality  red_wine  \n",
              "0      9.4        5         1  \n",
              "1      9.8        5         1  \n",
              "2      9.8        5         1  \n",
              "3      9.8        6         1  \n",
              "4      9.4        5         1  "
            ]
          },
          "execution_count": 1024,
          "metadata": {},
          "output_type": "execute_result"
        }
      ],
      "source": [
        "wine.head()"
      ]
    },
    {
      "cell_type": "markdown",
      "metadata": {
        "id": "scteyINnXF5s"
      },
      "source": [
        "#### Explore Data (Exploratory Data Analysis)"
      ]
    },
    {
      "cell_type": "code",
      "execution_count": 1025,
      "metadata": {
        "id": "u-Q3RTtuXF5t"
      },
      "outputs": [
        {
          "data": {
            "text/plain": [
              "fixed acidity           0\n",
              "volatile acidity        0\n",
              "citric acid             0\n",
              "residual sugar          0\n",
              "chlorides               0\n",
              "free sulfur dioxide     0\n",
              "total sulfur dioxide    0\n",
              "density                 0\n",
              "pH                      0\n",
              "sulphates               0\n",
              "alcohol                 0\n",
              "quality                 0\n",
              "red_wine                0\n",
              "dtype: int64"
            ]
          },
          "execution_count": 1025,
          "metadata": {},
          "output_type": "execute_result"
        }
      ],
      "source": [
        "wine.isnull().sum()"
      ]
    },
    {
      "cell_type": "code",
      "execution_count": 1026,
      "metadata": {},
      "outputs": [
        {
          "data": {
            "text/plain": [
              "fixed acidity           float64\n",
              "volatile acidity        float64\n",
              "citric acid             float64\n",
              "residual sugar          float64\n",
              "chlorides               float64\n",
              "free sulfur dioxide     float64\n",
              "total sulfur dioxide    float64\n",
              "density                 float64\n",
              "pH                      float64\n",
              "sulphates               float64\n",
              "alcohol                 float64\n",
              "quality                   int64\n",
              "red_wine                  int64\n",
              "dtype: object"
            ]
          },
          "execution_count": 1026,
          "metadata": {},
          "output_type": "execute_result"
        }
      ],
      "source": [
        "wine.dtypes"
      ]
    },
    {
      "cell_type": "markdown",
      "metadata": {},
      "source": [
        "### hence, there are no null values, not showing object64, which is good. Now, we can start doing some correlation on FEATURE."
      ]
    },
    {
      "cell_type": "code",
      "execution_count": 1027,
      "metadata": {},
      "outputs": [
        {
          "data": {
            "text/html": [
              "<div>\n",
              "<style scoped>\n",
              "    .dataframe tbody tr th:only-of-type {\n",
              "        vertical-align: middle;\n",
              "    }\n",
              "\n",
              "    .dataframe tbody tr th {\n",
              "        vertical-align: top;\n",
              "    }\n",
              "\n",
              "    .dataframe thead th {\n",
              "        text-align: right;\n",
              "    }\n",
              "</style>\n",
              "<table border=\"1\" class=\"dataframe\">\n",
              "  <thead>\n",
              "    <tr style=\"text-align: right;\">\n",
              "      <th></th>\n",
              "      <th>fixed acidity</th>\n",
              "      <th>volatile acidity</th>\n",
              "      <th>citric acid</th>\n",
              "      <th>residual sugar</th>\n",
              "      <th>chlorides</th>\n",
              "      <th>free sulfur dioxide</th>\n",
              "      <th>total sulfur dioxide</th>\n",
              "      <th>density</th>\n",
              "      <th>pH</th>\n",
              "      <th>sulphates</th>\n",
              "      <th>alcohol</th>\n",
              "      <th>quality</th>\n",
              "      <th>red_wine</th>\n",
              "    </tr>\n",
              "  </thead>\n",
              "  <tbody>\n",
              "    <tr>\n",
              "      <th>fixed acidity</th>\n",
              "      <td>1.000000</td>\n",
              "      <td>0.219008</td>\n",
              "      <td>0.324436</td>\n",
              "      <td>-0.111981</td>\n",
              "      <td>0.298195</td>\n",
              "      <td>-0.282735</td>\n",
              "      <td>-0.329054</td>\n",
              "      <td>0.458910</td>\n",
              "      <td>-0.252700</td>\n",
              "      <td>0.299568</td>\n",
              "      <td>-0.095452</td>\n",
              "      <td>-0.076743</td>\n",
              "      <td>0.486740</td>\n",
              "    </tr>\n",
              "    <tr>\n",
              "      <th>volatile acidity</th>\n",
              "      <td>0.219008</td>\n",
              "      <td>1.000000</td>\n",
              "      <td>-0.377981</td>\n",
              "      <td>-0.196011</td>\n",
              "      <td>0.377124</td>\n",
              "      <td>-0.352557</td>\n",
              "      <td>-0.414476</td>\n",
              "      <td>0.271296</td>\n",
              "      <td>0.261454</td>\n",
              "      <td>0.225984</td>\n",
              "      <td>-0.037640</td>\n",
              "      <td>-0.265699</td>\n",
              "      <td>0.653036</td>\n",
              "    </tr>\n",
              "    <tr>\n",
              "      <th>citric acid</th>\n",
              "      <td>0.324436</td>\n",
              "      <td>-0.377981</td>\n",
              "      <td>1.000000</td>\n",
              "      <td>0.142451</td>\n",
              "      <td>0.038998</td>\n",
              "      <td>0.133126</td>\n",
              "      <td>0.195242</td>\n",
              "      <td>0.096154</td>\n",
              "      <td>-0.329808</td>\n",
              "      <td>0.056197</td>\n",
              "      <td>-0.010493</td>\n",
              "      <td>0.085532</td>\n",
              "      <td>-0.187397</td>\n",
              "    </tr>\n",
              "    <tr>\n",
              "      <th>residual sugar</th>\n",
              "      <td>-0.111981</td>\n",
              "      <td>-0.196011</td>\n",
              "      <td>0.142451</td>\n",
              "      <td>1.000000</td>\n",
              "      <td>-0.128940</td>\n",
              "      <td>0.402871</td>\n",
              "      <td>0.495482</td>\n",
              "      <td>0.552517</td>\n",
              "      <td>-0.267320</td>\n",
              "      <td>-0.185927</td>\n",
              "      <td>-0.359415</td>\n",
              "      <td>-0.036980</td>\n",
              "      <td>-0.348821</td>\n",
              "    </tr>\n",
              "    <tr>\n",
              "      <th>chlorides</th>\n",
              "      <td>0.298195</td>\n",
              "      <td>0.377124</td>\n",
              "      <td>0.038998</td>\n",
              "      <td>-0.128940</td>\n",
              "      <td>1.000000</td>\n",
              "      <td>-0.195045</td>\n",
              "      <td>-0.279630</td>\n",
              "      <td>0.362615</td>\n",
              "      <td>0.044708</td>\n",
              "      <td>0.395593</td>\n",
              "      <td>-0.256916</td>\n",
              "      <td>-0.200666</td>\n",
              "      <td>0.512678</td>\n",
              "    </tr>\n",
              "    <tr>\n",
              "      <th>free sulfur dioxide</th>\n",
              "      <td>-0.282735</td>\n",
              "      <td>-0.352557</td>\n",
              "      <td>0.133126</td>\n",
              "      <td>0.402871</td>\n",
              "      <td>-0.195045</td>\n",
              "      <td>1.000000</td>\n",
              "      <td>0.720934</td>\n",
              "      <td>0.025717</td>\n",
              "      <td>-0.145854</td>\n",
              "      <td>-0.188457</td>\n",
              "      <td>-0.179838</td>\n",
              "      <td>0.055463</td>\n",
              "      <td>-0.471644</td>\n",
              "    </tr>\n",
              "    <tr>\n",
              "      <th>total sulfur dioxide</th>\n",
              "      <td>-0.329054</td>\n",
              "      <td>-0.414476</td>\n",
              "      <td>0.195242</td>\n",
              "      <td>0.495482</td>\n",
              "      <td>-0.279630</td>\n",
              "      <td>0.720934</td>\n",
              "      <td>1.000000</td>\n",
              "      <td>0.032395</td>\n",
              "      <td>-0.238413</td>\n",
              "      <td>-0.275727</td>\n",
              "      <td>-0.265740</td>\n",
              "      <td>-0.041385</td>\n",
              "      <td>-0.700357</td>\n",
              "    </tr>\n",
              "    <tr>\n",
              "      <th>density</th>\n",
              "      <td>0.458910</td>\n",
              "      <td>0.271296</td>\n",
              "      <td>0.096154</td>\n",
              "      <td>0.552517</td>\n",
              "      <td>0.362615</td>\n",
              "      <td>0.025717</td>\n",
              "      <td>0.032395</td>\n",
              "      <td>1.000000</td>\n",
              "      <td>0.011686</td>\n",
              "      <td>0.259478</td>\n",
              "      <td>-0.686745</td>\n",
              "      <td>-0.305858</td>\n",
              "      <td>0.390645</td>\n",
              "    </tr>\n",
              "    <tr>\n",
              "      <th>pH</th>\n",
              "      <td>-0.252700</td>\n",
              "      <td>0.261454</td>\n",
              "      <td>-0.329808</td>\n",
              "      <td>-0.267320</td>\n",
              "      <td>0.044708</td>\n",
              "      <td>-0.145854</td>\n",
              "      <td>-0.238413</td>\n",
              "      <td>0.011686</td>\n",
              "      <td>1.000000</td>\n",
              "      <td>0.192123</td>\n",
              "      <td>0.121248</td>\n",
              "      <td>0.019506</td>\n",
              "      <td>0.329129</td>\n",
              "    </tr>\n",
              "    <tr>\n",
              "      <th>sulphates</th>\n",
              "      <td>0.299568</td>\n",
              "      <td>0.225984</td>\n",
              "      <td>0.056197</td>\n",
              "      <td>-0.185927</td>\n",
              "      <td>0.395593</td>\n",
              "      <td>-0.188457</td>\n",
              "      <td>-0.275727</td>\n",
              "      <td>0.259478</td>\n",
              "      <td>0.192123</td>\n",
              "      <td>1.000000</td>\n",
              "      <td>-0.003029</td>\n",
              "      <td>0.038485</td>\n",
              "      <td>0.487218</td>\n",
              "    </tr>\n",
              "    <tr>\n",
              "      <th>alcohol</th>\n",
              "      <td>-0.095452</td>\n",
              "      <td>-0.037640</td>\n",
              "      <td>-0.010493</td>\n",
              "      <td>-0.359415</td>\n",
              "      <td>-0.256916</td>\n",
              "      <td>-0.179838</td>\n",
              "      <td>-0.265740</td>\n",
              "      <td>-0.686745</td>\n",
              "      <td>0.121248</td>\n",
              "      <td>-0.003029</td>\n",
              "      <td>1.000000</td>\n",
              "      <td>0.444319</td>\n",
              "      <td>-0.032970</td>\n",
              "    </tr>\n",
              "    <tr>\n",
              "      <th>quality</th>\n",
              "      <td>-0.076743</td>\n",
              "      <td>-0.265699</td>\n",
              "      <td>0.085532</td>\n",
              "      <td>-0.036980</td>\n",
              "      <td>-0.200666</td>\n",
              "      <td>0.055463</td>\n",
              "      <td>-0.041385</td>\n",
              "      <td>-0.305858</td>\n",
              "      <td>0.019506</td>\n",
              "      <td>0.038485</td>\n",
              "      <td>0.444319</td>\n",
              "      <td>1.000000</td>\n",
              "      <td>-0.119323</td>\n",
              "    </tr>\n",
              "    <tr>\n",
              "      <th>red_wine</th>\n",
              "      <td>0.486740</td>\n",
              "      <td>0.653036</td>\n",
              "      <td>-0.187397</td>\n",
              "      <td>-0.348821</td>\n",
              "      <td>0.512678</td>\n",
              "      <td>-0.471644</td>\n",
              "      <td>-0.700357</td>\n",
              "      <td>0.390645</td>\n",
              "      <td>0.329129</td>\n",
              "      <td>0.487218</td>\n",
              "      <td>-0.032970</td>\n",
              "      <td>-0.119323</td>\n",
              "      <td>1.000000</td>\n",
              "    </tr>\n",
              "  </tbody>\n",
              "</table>\n",
              "</div>"
            ],
            "text/plain": [
              "                      fixed acidity  volatile acidity  citric acid  \\\n",
              "fixed acidity              1.000000          0.219008     0.324436   \n",
              "volatile acidity           0.219008          1.000000    -0.377981   \n",
              "citric acid                0.324436         -0.377981     1.000000   \n",
              "residual sugar            -0.111981         -0.196011     0.142451   \n",
              "chlorides                  0.298195          0.377124     0.038998   \n",
              "free sulfur dioxide       -0.282735         -0.352557     0.133126   \n",
              "total sulfur dioxide      -0.329054         -0.414476     0.195242   \n",
              "density                    0.458910          0.271296     0.096154   \n",
              "pH                        -0.252700          0.261454    -0.329808   \n",
              "sulphates                  0.299568          0.225984     0.056197   \n",
              "alcohol                   -0.095452         -0.037640    -0.010493   \n",
              "quality                   -0.076743         -0.265699     0.085532   \n",
              "red_wine                   0.486740          0.653036    -0.187397   \n",
              "\n",
              "                      residual sugar  chlorides  free sulfur dioxide  \\\n",
              "fixed acidity              -0.111981   0.298195            -0.282735   \n",
              "volatile acidity           -0.196011   0.377124            -0.352557   \n",
              "citric acid                 0.142451   0.038998             0.133126   \n",
              "residual sugar              1.000000  -0.128940             0.402871   \n",
              "chlorides                  -0.128940   1.000000            -0.195045   \n",
              "free sulfur dioxide         0.402871  -0.195045             1.000000   \n",
              "total sulfur dioxide        0.495482  -0.279630             0.720934   \n",
              "density                     0.552517   0.362615             0.025717   \n",
              "pH                         -0.267320   0.044708            -0.145854   \n",
              "sulphates                  -0.185927   0.395593            -0.188457   \n",
              "alcohol                    -0.359415  -0.256916            -0.179838   \n",
              "quality                    -0.036980  -0.200666             0.055463   \n",
              "red_wine                   -0.348821   0.512678            -0.471644   \n",
              "\n",
              "                      total sulfur dioxide   density        pH  sulphates  \\\n",
              "fixed acidity                    -0.329054  0.458910 -0.252700   0.299568   \n",
              "volatile acidity                 -0.414476  0.271296  0.261454   0.225984   \n",
              "citric acid                       0.195242  0.096154 -0.329808   0.056197   \n",
              "residual sugar                    0.495482  0.552517 -0.267320  -0.185927   \n",
              "chlorides                        -0.279630  0.362615  0.044708   0.395593   \n",
              "free sulfur dioxide               0.720934  0.025717 -0.145854  -0.188457   \n",
              "total sulfur dioxide              1.000000  0.032395 -0.238413  -0.275727   \n",
              "density                           0.032395  1.000000  0.011686   0.259478   \n",
              "pH                               -0.238413  0.011686  1.000000   0.192123   \n",
              "sulphates                        -0.275727  0.259478  0.192123   1.000000   \n",
              "alcohol                          -0.265740 -0.686745  0.121248  -0.003029   \n",
              "quality                          -0.041385 -0.305858  0.019506   0.038485   \n",
              "red_wine                         -0.700357  0.390645  0.329129   0.487218   \n",
              "\n",
              "                       alcohol   quality  red_wine  \n",
              "fixed acidity        -0.095452 -0.076743  0.486740  \n",
              "volatile acidity     -0.037640 -0.265699  0.653036  \n",
              "citric acid          -0.010493  0.085532 -0.187397  \n",
              "residual sugar       -0.359415 -0.036980 -0.348821  \n",
              "chlorides            -0.256916 -0.200666  0.512678  \n",
              "free sulfur dioxide  -0.179838  0.055463 -0.471644  \n",
              "total sulfur dioxide -0.265740 -0.041385 -0.700357  \n",
              "density              -0.686745 -0.305858  0.390645  \n",
              "pH                    0.121248  0.019506  0.329129  \n",
              "sulphates            -0.003029  0.038485  0.487218  \n",
              "alcohol               1.000000  0.444319 -0.032970  \n",
              "quality               0.444319  1.000000 -0.119323  \n",
              "red_wine             -0.032970 -0.119323  1.000000  "
            ]
          },
          "execution_count": 1027,
          "metadata": {},
          "output_type": "execute_result"
        }
      ],
      "source": [
        "wine.corr()"
      ]
    },
    {
      "cell_type": "code",
      "execution_count": 1028,
      "metadata": {},
      "outputs": [
        {
          "data": {
            "text/plain": [
              "fixed acidity          -0.076743\n",
              "volatile acidity       -0.265699\n",
              "citric acid             0.085532\n",
              "residual sugar         -0.036980\n",
              "chlorides              -0.200666\n",
              "free sulfur dioxide     0.055463\n",
              "total sulfur dioxide   -0.041385\n",
              "density                -0.305858\n",
              "pH                      0.019506\n",
              "sulphates               0.038485\n",
              "alcohol                 0.444319\n",
              "quality                 1.000000\n",
              "red_wine               -0.119323\n",
              "Name: quality, dtype: float64"
            ]
          },
          "execution_count": 1028,
          "metadata": {},
          "output_type": "execute_result"
        }
      ],
      "source": [
        "wine.corr()['quality']"
      ]
    },
    {
      "cell_type": "code",
      "execution_count": 1029,
      "metadata": {},
      "outputs": [
        {
          "data": {
            "text/plain": [
              "(6497, 13)"
            ]
          },
          "execution_count": 1029,
          "metadata": {},
          "output_type": "execute_result"
        }
      ],
      "source": [
        "wine.shape"
      ]
    },
    {
      "cell_type": "markdown",
      "metadata": {
        "id": "_xtHG5jGXF5v"
      },
      "source": [
        "### 2. Set Target Variable"
      ]
    },
    {
      "cell_type": "markdown",
      "metadata": {
        "id": "qkLJQxkSXF5y"
      },
      "source": [
        "Create a target variable for wine quality."
      ]
    },
    {
      "cell_type": "code",
      "execution_count": 1030,
      "metadata": {
        "id": "oaxrah6uXF51"
      },
      "outputs": [
        {
          "data": {
            "text/plain": [
              "<AxesSubplot:>"
            ]
          },
          "execution_count": 1030,
          "metadata": {},
          "output_type": "execute_result"
        },
        {
          "data": {
            "image/png": "[encoded data removed]",
            "text/plain": [
              "<Figure size 432x288 with 2 Axes>"
            ]
          },
          "metadata": {
            "needs_background": "light"
          },
          "output_type": "display_data"
        }
      ],
      "source": [
        "sns.heatmap(wine.corr(),annot=False,cmap='Accent')"
      ]
    },
    {
      "cell_type": "markdown",
      "metadata": {},
      "source": [
        "#### Plot diagonal Correlation Matrix."
      ]
    },
    {
      "cell_type": "code",
      "execution_count": 1031,
      "metadata": {},
      "outputs": [
        {
          "data": {
            "text/plain": [
              "<AxesSubplot:>"
            ]
          },
          "execution_count": 1031,
          "metadata": {},
          "output_type": "execute_result"
        },
        {
          "data": {
            "image/png": "[encoded data removed]",
            "text/plain": [
              "<Figure size 792x648 with 2 Axes>"
            ]
          },
          "metadata": {},
          "output_type": "display_data"
        }
      ],
      "source": [
        "sns.set_theme(style=\"white\")\n",
        "\n",
        "\n",
        "# Generate a mask for the upper triangle\n",
        "mask = np.triu(np.ones_like(wine.corr(), dtype = bool))  \n",
        "\n",
        "# Set up the matplotlib figure\n",
        "f, ax = plt.subplots(figsize=(11, 9))\n",
        "\n",
        "# Generate a custom diverging colormap\n",
        "cmap = sns.diverging_palette(230, 20, as_cmap=True)\n",
        "\n",
        "# Draw the heatmap with the mask and correct aspect ratio\n",
        "sns.heatmap(wine.corr(), mask=mask, cmap=cmap, vmax=.3, center=0,\n",
        "            square=True, linewidths=.5, cbar_kws={\"shrink\": .5}, annot= True)\n",
        "\n"
      ]
    },
    {
      "cell_type": "markdown",
      "metadata": {
        "id": "_tBqj2sqXF55"
      },
      "source": [
        "### Set Predictor Variables"
      ]
    },
    {
      "cell_type": "markdown",
      "metadata": {
        "id": "lY5kp1kzXF56"
      },
      "source": [
        "Create a predictor matrix with variables of your choice. State your reason."
      ]
    },
    {
      "cell_type": "code",
      "execution_count": 1032,
      "metadata": {
        "id": "E0DcG8vaXF56"
      },
      "outputs": [
        {
          "data": {
            "text/plain": [
              "<AxesSubplot:>"
            ]
          },
          "execution_count": 1032,
          "metadata": {},
          "output_type": "execute_result"
        },
        {
          "data": {
            "image/png": "[encoded data removed]",
            "text/plain": [
              "<Figure size 432x288 with 2 Axes>"
            ]
          },
          "metadata": {},
          "output_type": "display_data"
        }
      ],
      "source": [
        "sns.heatmap(wine.corr()[['quality']],annot=True,cmap='Greens')"
      ]
    },
    {
      "cell_type": "markdown",
      "metadata": {},
      "source": [
        "### Create independent  (X matrix) and dependent variable (y vector)"
      ]
    },
    {
      "cell_type": "code",
      "execution_count": 1033,
      "metadata": {},
      "outputs": [],
      "source": [
        "\n",
        "# Create X and y.\n",
        "X = wine.drop('quality', axis=1)\n",
        "y = wine['quality']"
      ]
    },
    {
      "cell_type": "markdown",
      "metadata": {},
      "source": [
        "### instantitate Polynormial features to all 2 index terms."
      ]
    },
    {
      "cell_type": "code",
      "execution_count": 1034,
      "metadata": {},
      "outputs": [],
      "source": [
        "wine_poly = PolynomialFeatures(degree=2, interaction_only=False, include_bias=False)"
      ]
    },
    {
      "cell_type": "code",
      "execution_count": 1035,
      "metadata": {},
      "outputs": [],
      "source": [
        "# Fit and transform our X data.\n",
        "X_fit = wine_poly.fit_transform(X)"
      ]
    },
    {
      "cell_type": "code",
      "execution_count": 1036,
      "metadata": {},
      "outputs": [
        {
          "name": "stderr",
          "output_type": "stream",
          "text": [
            "/Users/gracechongzuting/opt/anaconda3/lib/python3.9/site-packages/sklearn/utils/deprecation.py:87: FutureWarning: Function get_feature_names is deprecated; get_feature_names is deprecated in 1.0 and will be removed in 1.2. Please use get_feature_names_out instead.\n",
            "  warnings.warn(msg, category=FutureWarning)\n"
          ]
        },
        {
          "data": {
            "text/plain": [
              "['fixed acidity',\n",
              " 'volatile acidity',\n",
              " 'citric acid',\n",
              " 'residual sugar',\n",
              " 'chlorides',\n",
              " 'free sulfur dioxide',\n",
              " 'total sulfur dioxide',\n",
              " 'density',\n",
              " 'pH',\n",
              " 'sulphates',\n",
              " 'alcohol',\n",
              " 'red_wine',\n",
              " 'fixed acidity^2',\n",
              " 'fixed acidity volatile acidity',\n",
              " 'fixed acidity citric acid',\n",
              " 'fixed acidity residual sugar',\n",
              " 'fixed acidity chlorides',\n",
              " 'fixed acidity free sulfur dioxide',\n",
              " 'fixed acidity total sulfur dioxide',\n",
              " 'fixed acidity density',\n",
              " 'fixed acidity pH',\n",
              " 'fixed acidity sulphates',\n",
              " 'fixed acidity alcohol',\n",
              " 'fixed acidity red_wine',\n",
              " 'volatile acidity^2',\n",
              " 'volatile acidity citric acid',\n",
              " 'volatile acidity residual sugar',\n",
              " 'volatile acidity chlorides',\n",
              " 'volatile acidity free sulfur dioxide',\n",
              " 'volatile acidity total sulfur dioxide',\n",
              " 'volatile acidity density',\n",
              " 'volatile acidity pH',\n",
              " 'volatile acidity sulphates',\n",
              " 'volatile acidity alcohol',\n",
              " 'volatile acidity red_wine',\n",
              " 'citric acid^2',\n",
              " 'citric acid residual sugar',\n",
              " 'citric acid chlorides',\n",
              " 'citric acid free sulfur dioxide',\n",
              " 'citric acid total sulfur dioxide',\n",
              " 'citric acid density',\n",
              " 'citric acid pH',\n",
              " 'citric acid sulphates',\n",
              " 'citric acid alcohol',\n",
              " 'citric acid red_wine',\n",
              " 'residual sugar^2',\n",
              " 'residual sugar chlorides',\n",
              " 'residual sugar free sulfur dioxide',\n",
              " 'residual sugar total sulfur dioxide',\n",
              " 'residual sugar density',\n",
              " 'residual sugar pH',\n",
              " 'residual sugar sulphates',\n",
              " 'residual sugar alcohol',\n",
              " 'residual sugar red_wine',\n",
              " 'chlorides^2',\n",
              " 'chlorides free sulfur dioxide',\n",
              " 'chlorides total sulfur dioxide',\n",
              " 'chlorides density',\n",
              " 'chlorides pH',\n",
              " 'chlorides sulphates',\n",
              " 'chlorides alcohol',\n",
              " 'chlorides red_wine',\n",
              " 'free sulfur dioxide^2',\n",
              " 'free sulfur dioxide total sulfur dioxide',\n",
              " 'free sulfur dioxide density',\n",
              " 'free sulfur dioxide pH',\n",
              " 'free sulfur dioxide sulphates',\n",
              " 'free sulfur dioxide alcohol',\n",
              " 'free sulfur dioxide red_wine',\n",
              " 'total sulfur dioxide^2',\n",
              " 'total sulfur dioxide density',\n",
              " 'total sulfur dioxide pH',\n",
              " 'total sulfur dioxide sulphates',\n",
              " 'total sulfur dioxide alcohol',\n",
              " 'total sulfur dioxide red_wine',\n",
              " 'density^2',\n",
              " 'density pH',\n",
              " 'density sulphates',\n",
              " 'density alcohol',\n",
              " 'density red_wine',\n",
              " 'pH^2',\n",
              " 'pH sulphates',\n",
              " 'pH alcohol',\n",
              " 'pH red_wine',\n",
              " 'sulphates^2',\n",
              " 'sulphates alcohol',\n",
              " 'sulphates red_wine',\n",
              " 'alcohol^2',\n",
              " 'alcohol red_wine',\n",
              " 'red_wine^2']"
            ]
          },
          "execution_count": 1036,
          "metadata": {},
          "output_type": "execute_result"
        }
      ],
      "source": [
        "wine_poly.get_feature_names(X.columns)"
      ]
    },
    {
      "cell_type": "code",
      "execution_count": 1037,
      "metadata": {},
      "outputs": [
        {
          "data": {
            "text/plain": [
              "(6497, 90)"
            ]
          },
          "execution_count": 1037,
          "metadata": {},
          "output_type": "execute_result"
        }
      ],
      "source": [
        "X_fit.shape"
      ]
    },
    {
      "cell_type": "code",
      "execution_count": 1038,
      "metadata": {},
      "outputs": [
        {
          "data": {
            "text/plain": [
              "(6497, 12)"
            ]
          },
          "execution_count": 1038,
          "metadata": {},
          "output_type": "execute_result"
        }
      ],
      "source": [
        "X.shape"
      ]
    },
    {
      "cell_type": "markdown",
      "metadata": {
        "id": "sUssbQORXF59"
      },
      "source": [
        "### 4. Using Linear Regression Create a Model and Test Score"
      ]
    },
    {
      "cell_type": "code",
      "execution_count": 1039,
      "metadata": {
        "id": "YVrOXac4XF59"
      },
      "outputs": [],
      "source": [
        "from sklearn.linear_model import LinearRegression\n",
        "from sklearn.model_selection import train_test_split,cross_val_score \n",
        "from sklearn.preprocessing import StandardScaler"
      ]
    },
    {
      "cell_type": "code",
      "execution_count": 1040,
      "metadata": {
        "id": "PHMTdm2BXF6A"
      },
      "outputs": [],
      "source": [
        "# Train-Test Split\n",
        "\n",
        "X_train, X_test, y_train, y_test = train_test_split(X_fit, y, test_size=0.35, random_state=42)"
      ]
    },
    {
      "cell_type": "code",
      "execution_count": 1041,
      "metadata": {},
      "outputs": [],
      "source": [
        "ss = StandardScaler()\n",
        "Z_train= ss.fit_transform(X_train) \n",
        "Z_test= ss.transform(X_test)"
      ]
    },
    {
      "cell_type": "code",
      "execution_count": 1042,
      "metadata": {},
      "outputs": [
        {
          "name": "stdout",
          "output_type": "stream",
          "text": [
            "the shape of Z_train is (4223, 90)\n",
            "the shape of y_train is (4223,)\n",
            "the shape of Z_test is (2274, 90)\n",
            "the shape of y_test is (2274,)\n"
          ]
        }
      ],
      "source": [
        "print(f'the shape of Z_train is {Z_train.shape}')\n",
        "print(f'the shape of y_train is {y_train.shape}')\n",
        "print(f'the shape of Z_test is {Z_test.shape}')\n",
        "print(f'the shape of y_test is {y_test.shape}')"
      ]
    },
    {
      "cell_type": "code",
      "execution_count": 1043,
      "metadata": {
        "id": "BgSMd_xaXF6F"
      },
      "outputs": [],
      "source": [
        "# Create a model for Linear Regression\n",
        "wine_lr = LinearRegression()\n",
        "\n",
        "\n"
      ]
    },
    {
      "cell_type": "code",
      "execution_count": 1044,
      "metadata": {},
      "outputs": [
        {
          "data": {
            "text/plain": [
              "LinearRegression()"
            ]
          },
          "execution_count": 1044,
          "metadata": {},
          "output_type": "execute_result"
        }
      ],
      "source": [
        "# Fit the model with the Training data\n",
        "wine_lr.fit(Z_train,y_train)"
      ]
    },
    {
      "cell_type": "code",
      "execution_count": 1045,
      "metadata": {},
      "outputs": [
        {
          "data": {
            "text/plain": [
              "0.3764390062226828"
            ]
          },
          "execution_count": 1045,
          "metadata": {},
          "output_type": "execute_result"
        }
      ],
      "source": [
        "# Calculate the score (R^2 for Regression) for Training Data\n",
        "wine_lr.score(Z_train,y_train)"
      ]
    },
    {
      "cell_type": "code",
      "execution_count": 1046,
      "metadata": {},
      "outputs": [
        {
          "data": {
            "text/plain": [
              "0.3006849883048991"
            ]
          },
          "execution_count": 1046,
          "metadata": {},
          "output_type": "execute_result"
        }
      ],
      "source": [
        "# Calculate the score (R^2 for Regression) for Testing Data\n",
        "wine_lr.score(Z_test,y_test)"
      ]
    },
    {
      "cell_type": "markdown",
      "metadata": {
        "id": "kqkKVSXGh-Wm"
      },
      "source": [
        "### BONUS: Cross validation using K-score"
      ]
    },
    {
      "cell_type": "code",
      "execution_count": 1047,
      "metadata": {
        "id": "Wh_-kj-Kh-Wn"
      },
      "outputs": [],
      "source": [
        "# Cross validation \n",
        "from sklearn.model_selection import KFold \n",
        "from sklearn.metrics import mean_squared_error"
      ]
    },
    {
      "cell_type": "code",
      "execution_count": 1048,
      "metadata": {
        "id": "kj2BUnLBh-Wn"
      },
      "outputs": [],
      "source": [
        "# Set up 5-fold cross validation  \n",
        "from pandas import DataFrame\n",
        "\n",
        "\n",
        "k_fold = KFold(5, shuffle=True)\n",
        "train_scores = []\n",
        "train_rmse = []\n",
        "test_scores = []\n",
        "test_rmse = []\n",
        "\n",
        "for k, (train, test) in enumerate(k_fold.split(X)):\n",
        "    \n",
        "    # Get training and test sets for X and y\n",
        "    X_train = X.iloc[train, ]\n",
        "    y_train = y.iloc[train, ]\n",
        "    X_test = X.iloc[test, ]\n",
        "    y_test = y.iloc[test, ]\n",
        "    # Fit model with training set\n",
        "    wine_lr.fit(X_train, y_train)\n",
        "    # Make predictions with training and test set\n",
        "    train_p = wine_lr.predict(X_train)\n",
        "    test_p = wine_lr.predict(X_test)\n",
        "    # Score R2 and RMSE on training and test sets and store in list\n",
        "    train_scores.append(wine_lr.score(X_train, y_train))\n",
        "    test_scores.append(wine_lr.score(X_test, y_test))\n",
        "    \n",
        "    train_rmse.append(mean_squared_error(y_train, train_p, squared=False))\n",
        "    test_rmse.append(mean_squared_error(y_test, test_p, squared=False))\n",
        "# Create a metrics_df dataframe to display r2 and rmse scores\n",
        "metrics_df = pd.DataFrame({'Training R2': train_scores, \n",
        "                           'Test R2': test_scores, \n",
        "                           'Training RMSE': train_rmse, \n",
        "                           'Test RMSE': test_rmse},\n",
        "                           index=[i+1 for i in range(5)])"
      ]
    },
    {
      "cell_type": "code",
      "execution_count": 1049,
      "metadata": {
        "id": "9IZMjDdxh-Wn"
      },
      "outputs": [
        {
          "data": {
            "text/html": [
              "<div>\n",
              "<style scoped>\n",
              "    .dataframe tbody tr th:only-of-type {\n",
              "        vertical-align: middle;\n",
              "    }\n",
              "\n",
              "    .dataframe tbody tr th {\n",
              "        vertical-align: top;\n",
              "    }\n",
              "\n",
              "    .dataframe thead th {\n",
              "        text-align: right;\n",
              "    }\n",
              "</style>\n",
              "<table border=\"1\" class=\"dataframe\">\n",
              "  <thead>\n",
              "    <tr style=\"text-align: right;\">\n",
              "      <th></th>\n",
              "      <th>Training R2</th>\n",
              "      <th>Test R2</th>\n",
              "      <th>Training RMSE</th>\n",
              "      <th>Test RMSE</th>\n",
              "    </tr>\n",
              "  </thead>\n",
              "  <tbody>\n",
              "    <tr>\n",
              "      <th>1</th>\n",
              "      <td>0.301351</td>\n",
              "      <td>0.277056</td>\n",
              "      <td>0.724559</td>\n",
              "      <td>0.763457</td>\n",
              "    </tr>\n",
              "    <tr>\n",
              "      <th>2</th>\n",
              "      <td>0.291699</td>\n",
              "      <td>0.312742</td>\n",
              "      <td>0.730275</td>\n",
              "      <td>0.741725</td>\n",
              "    </tr>\n",
              "    <tr>\n",
              "      <th>3</th>\n",
              "      <td>0.299586</td>\n",
              "      <td>0.280078</td>\n",
              "      <td>0.733989</td>\n",
              "      <td>0.726995</td>\n",
              "    </tr>\n",
              "    <tr>\n",
              "      <th>4</th>\n",
              "      <td>0.295771</td>\n",
              "      <td>0.298909</td>\n",
              "      <td>0.732835</td>\n",
              "      <td>0.730845</td>\n",
              "    </tr>\n",
              "    <tr>\n",
              "      <th>5</th>\n",
              "      <td>0.295595</td>\n",
              "      <td>0.299235</td>\n",
              "      <td>0.739355</td>\n",
              "      <td>0.704267</td>\n",
              "    </tr>\n",
              "  </tbody>\n",
              "</table>\n",
              "</div>"
            ],
            "text/plain": [
              "   Training R2   Test R2  Training RMSE  Test RMSE\n",
              "1     0.301351  0.277056       0.724559   0.763457\n",
              "2     0.291699  0.312742       0.730275   0.741725\n",
              "3     0.299586  0.280078       0.733989   0.726995\n",
              "4     0.295771  0.298909       0.732835   0.730845\n",
              "5     0.295595  0.299235       0.739355   0.704267"
            ]
          },
          "execution_count": 1049,
          "metadata": {},
          "output_type": "execute_result"
        }
      ],
      "source": [
        "# Describe the metrics\n",
        "metrics_df"
      ]
    },
    {
      "cell_type": "code",
      "execution_count": 1050,
      "metadata": {},
      "outputs": [
        {
          "data": {
            "text/html": [
              "<div>\n",
              "<style scoped>\n",
              "    .dataframe tbody tr th:only-of-type {\n",
              "        vertical-align: middle;\n",
              "    }\n",
              "\n",
              "    .dataframe tbody tr th {\n",
              "        vertical-align: top;\n",
              "    }\n",
              "\n",
              "    .dataframe thead th {\n",
              "        text-align: right;\n",
              "    }\n",
              "</style>\n",
              "<table border=\"1\" class=\"dataframe\">\n",
              "  <thead>\n",
              "    <tr style=\"text-align: right;\">\n",
              "      <th></th>\n",
              "      <th>Training R2</th>\n",
              "      <th>Test R2</th>\n",
              "      <th>Training RMSE</th>\n",
              "      <th>Test RMSE</th>\n",
              "    </tr>\n",
              "  </thead>\n",
              "  <tbody>\n",
              "    <tr>\n",
              "      <th>count</th>\n",
              "      <td>5.000000</td>\n",
              "      <td>5.000000</td>\n",
              "      <td>5.000000</td>\n",
              "      <td>5.000000</td>\n",
              "    </tr>\n",
              "    <tr>\n",
              "      <th>mean</th>\n",
              "      <td>0.296801</td>\n",
              "      <td>0.293604</td>\n",
              "      <td>0.732203</td>\n",
              "      <td>0.733458</td>\n",
              "    </tr>\n",
              "    <tr>\n",
              "      <th>std</th>\n",
              "      <td>0.003775</td>\n",
              "      <td>0.014857</td>\n",
              "      <td>0.005406</td>\n",
              "      <td>0.021616</td>\n",
              "    </tr>\n",
              "    <tr>\n",
              "      <th>min</th>\n",
              "      <td>0.291699</td>\n",
              "      <td>0.277056</td>\n",
              "      <td>0.724559</td>\n",
              "      <td>0.704267</td>\n",
              "    </tr>\n",
              "    <tr>\n",
              "      <th>25%</th>\n",
              "      <td>0.295595</td>\n",
              "      <td>0.280078</td>\n",
              "      <td>0.730275</td>\n",
              "      <td>0.726995</td>\n",
              "    </tr>\n",
              "    <tr>\n",
              "      <th>50%</th>\n",
              "      <td>0.295771</td>\n",
              "      <td>0.298909</td>\n",
              "      <td>0.732835</td>\n",
              "      <td>0.730845</td>\n",
              "    </tr>\n",
              "    <tr>\n",
              "      <th>75%</th>\n",
              "      <td>0.299586</td>\n",
              "      <td>0.299235</td>\n",
              "      <td>0.733989</td>\n",
              "      <td>0.741725</td>\n",
              "    </tr>\n",
              "    <tr>\n",
              "      <th>max</th>\n",
              "      <td>0.301351</td>\n",
              "      <td>0.312742</td>\n",
              "      <td>0.739355</td>\n",
              "      <td>0.763457</td>\n",
              "    </tr>\n",
              "  </tbody>\n",
              "</table>\n",
              "</div>"
            ],
            "text/plain": [
              "       Training R2   Test R2  Training RMSE  Test RMSE\n",
              "count     5.000000  5.000000       5.000000   5.000000\n",
              "mean      0.296801  0.293604       0.732203   0.733458\n",
              "std       0.003775  0.014857       0.005406   0.021616\n",
              "min       0.291699  0.277056       0.724559   0.704267\n",
              "25%       0.295595  0.280078       0.730275   0.726995\n",
              "50%       0.295771  0.298909       0.732835   0.730845\n",
              "75%       0.299586  0.299235       0.733989   0.741725\n",
              "max       0.301351  0.312742       0.739355   0.763457"
            ]
          },
          "execution_count": 1050,
          "metadata": {},
          "output_type": "execute_result"
        }
      ],
      "source": [
        "metrics_df.describe()"
      ]
    },
    {
      "cell_type": "markdown",
      "metadata": {},
      "source": [
        "\n",
        "\n",
        "1. The cost function for both ridge and lasso regression are similar. However, ridge regression takes the square of the coefficients and lasso takes the magnitude.\n",
        "2. Lasso regression can be used for automatic feature selection, as the geometry of its constrained region allows coefficient values to inert to zero.\n",
        "3. An alpha value of zero in either ridge or lasso model will have results similar to the regression model.\n",
        "4. The larger the alpha value, the more aggressive the penalization\n",
        "## what happens if we train 30% of data only - Lasso & Ridge"
      ]
    },
    {
      "cell_type": "code",
      "execution_count": 1051,
      "metadata": {},
      "outputs": [],
      "source": [
        "X_train, X_test, y_train, y_test = train_test_split(\n",
        "    X_fit,\n",
        "    y,\n",
        "    test_size=0.7,\n",
        "    random_state=42\n",
        ")"
      ]
    },
    {
      "cell_type": "code",
      "execution_count": 1052,
      "metadata": {},
      "outputs": [],
      "source": [
        "sc = StandardScaler()\n",
        "Z_train= sc.fit_transform(X_train) \n",
        "Z_test= sc.transform(X_test)"
      ]
    },
    {
      "cell_type": "code",
      "execution_count": 1053,
      "metadata": {},
      "outputs": [
        {
          "name": "stdout",
          "output_type": "stream",
          "text": [
            "Z_train shape is: (1949, 90)\n",
            "y_train shape is: (1949,)\n",
            "Z_test shape is: (4548, 90)\n",
            "y_test shape is: (4548,)\n"
          ]
        }
      ],
      "source": [
        "print(f'Z_train shape is: {Z_train.shape}')\n",
        "print(f'y_train shape is: {y_train.shape}')\n",
        "print(f'Z_test shape is: {Z_test.shape}')\n",
        "print(f'y_test shape is: {y_test.shape}')"
      ]
    },
    {
      "cell_type": "markdown",
      "metadata": {},
      "source": [
        "### same , import linear regression model"
      ]
    },
    {
      "cell_type": "code",
      "execution_count": 1054,
      "metadata": {},
      "outputs": [],
      "source": [
        "\n",
        "from sklearn.linear_model import LinearRegression"
      ]
    },
    {
      "cell_type": "code",
      "execution_count": 1055,
      "metadata": {},
      "outputs": [
        {
          "data": {
            "text/plain": [
              "LinearRegression()"
            ]
          },
          "execution_count": 1055,
          "metadata": {},
          "output_type": "execute_result"
        }
      ],
      "source": [
        "ols = LinearRegression()\n",
        "ols.fit(Z_train,y_train)"
      ]
    },
    {
      "cell_type": "code",
      "execution_count": 1056,
      "metadata": {},
      "outputs": [
        {
          "name": "stdout",
          "output_type": "stream",
          "text": [
            "the OLS trained score is 0.4069819524268309\n",
            " the OLS test score is 0.22021547039848244\n"
          ]
        }
      ],
      "source": [
        "print(f'the OLS trained score is {ols.score(Z_train,y_train)}')\n",
        "print(f\" the OLS test score is {ols.score(Z_test,y_test)}\")"
      ]
    },
    {
      "cell_type": "markdown",
      "metadata": {},
      "source": [
        "### Now, let's import RIDGE to see if test score can be improved"
      ]
    },
    {
      "cell_type": "code",
      "execution_count": 1057,
      "metadata": {},
      "outputs": [],
      "source": [
        "from sklearn.linear_model import Ridge"
      ]
    },
    {
      "cell_type": "code",
      "execution_count": 1058,
      "metadata": {},
      "outputs": [
        {
          "name": "stdout",
          "output_type": "stream",
          "text": [
            "the train score of Ridge is 0.37708346347575294\n",
            "the test score of Ridge is 0.24423639703200728\n"
          ]
        }
      ],
      "source": [
        "#Instantiate RIDGE model\n",
        "ridge = Ridge(alpha =10)\n",
        "\n",
        "#Fit RIDGE model\n",
        "ridge.fit(Z_train, y_train)\n",
        "\n",
        "\n",
        "#Evaluate RIDGE model\n",
        "print(f'the train score of Ridge is {ridge.score(Z_train,y_train)}')\n",
        "print(f'the test score of Ridge is {ridge.score(Z_test,y_test)}')"
      ]
    },
    {
      "cell_type": "markdown",
      "metadata": {},
      "source": [
        "### determine best alpha (lamda) value\n",
        "- we import RidgeCV ridge cross validation"
      ]
    },
    {
      "cell_type": "code",
      "execution_count": 1059,
      "metadata": {},
      "outputs": [],
      "source": [
        "from sklearn.linear_model import RidgeCV"
      ]
    },
    {
      "cell_type": "markdown",
      "metadata": {},
      "source": [
        "- generate 100 equally spread values in a range of 0 to 5.\n",
        "- then convert the values to alpha of 10^0 to 10^5."
      ]
    },
    {
      "cell_type": "code",
      "execution_count": 1060,
      "metadata": {},
      "outputs": [],
      "source": [
        "#instantiate list of alphas to check\n",
        "#START: log10 power 0 to log10 power5 , and 100 values\n",
        "ridge_alpha = np.logspace(0,5,100)"
      ]
    },
    {
      "cell_type": "code",
      "execution_count": 1061,
      "metadata": {},
      "outputs": [],
      "source": [
        "#cross validate over list \n",
        "alpha_cv = RidgeCV(alphas = ridge_alpha, scoring='r2', cv =5)"
      ]
    },
    {
      "cell_type": "code",
      "execution_count": 1062,
      "metadata": {},
      "outputs": [
        {
          "data": {
            "text/plain": [
              "Text(0.5, 1.0, 'RIDGE non-logaritimic scale')"
            ]
          },
          "execution_count": 1062,
          "metadata": {},
          "output_type": "execute_result"
        },
        {
          "data": {
            "image/png": "[encoded data removed]",
            "text/plain": [
              "<Figure size 432x288 with 1 Axes>"
            ]
          },
          "metadata": {},
          "output_type": "display_data"
        }
      ],
      "source": [
        "# plot the RIDGE visualizatioin\n",
        "ridgex = np.logspace(0,5, num=100)\n",
        "ridgey = np.zeros(100)\n",
        "# plot the values\n",
        "plt.plot(ridgex, ridgey, 'o')\n",
        "plt.xlabel('ridge_x')\n",
        "plt.ylabel('ridge_y')\n",
        "plt.title('RIDGE non-logaritimic scale')"
      ]
    },
    {
      "cell_type": "code",
      "execution_count": 1063,
      "metadata": {},
      "outputs": [
        {
          "data": {
            "text/plain": [
              "Text(0.5, 1.0, 'RIDGE logarithimic scale')"
            ]
          },
          "execution_count": 1063,
          "metadata": {},
          "output_type": "execute_result"
        },
        {
          "data": {
            "image/png": "[encoded data removed]",
            "text/plain": [
              "<Figure size 432x288 with 1 Axes>"
            ]
          },
          "metadata": {},
          "output_type": "display_data"
        }
      ],
      "source": [
        "#plot the log RIDGE visualization\n",
        "ridgexlog = np.log10(ridgex)\n",
        "ridgey = np.zeros(100)\n",
        "# plot the values\n",
        "plt.plot(ridgexlog, ridgey, 'o')\n",
        "plt.xlabel('ridge_x_log')\n",
        "plt.ylabel('ridge_y')\n",
        "plt.title('RIDGE logarithimic scale')"
      ]
    },
    {
      "cell_type": "code",
      "execution_count": 1064,
      "metadata": {},
      "outputs": [
        {
          "data": {
            "text/plain": [
              "RidgeCV(alphas=array([1.00000000e+00, 1.12332403e+00, 1.26185688e+00, 1.41747416e+00,\n",
              "       1.59228279e+00, 1.78864953e+00, 2.00923300e+00, 2.25701972e+00,\n",
              "       2.53536449e+00, 2.84803587e+00, 3.19926714e+00, 3.59381366e+00,\n",
              "       4.03701726e+00, 4.53487851e+00, 5.09413801e+00, 5.72236766e+00,\n",
              "       6.42807312e+00, 7.22080902e+00, 8.11130831e+00, 9.11162756e+00,\n",
              "       1.02353102e+01, 1.14975700e+0...\n",
              "       6.89261210e+03, 7.74263683e+03, 8.69749003e+03, 9.77009957e+03,\n",
              "       1.09749877e+04, 1.23284674e+04, 1.38488637e+04, 1.55567614e+04,\n",
              "       1.74752840e+04, 1.96304065e+04, 2.20513074e+04, 2.47707636e+04,\n",
              "       2.78255940e+04, 3.12571585e+04, 3.51119173e+04, 3.94420606e+04,\n",
              "       4.43062146e+04, 4.97702356e+04, 5.59081018e+04, 6.28029144e+04,\n",
              "       7.05480231e+04, 7.92482898e+04, 8.90215085e+04, 1.00000000e+05]),\n",
              "        cv=5, scoring='r2')"
            ]
          },
          "execution_count": 1064,
          "metadata": {},
          "output_type": "execute_result"
        }
      ],
      "source": [
        "#Fit the RIDGE MODEL\n",
        "alpha_cv.fit(Z_train, y_train)\n"
      ]
    },
    {
      "cell_type": "code",
      "execution_count": 1065,
      "metadata": {},
      "outputs": [
        {
          "name": "stdout",
          "output_type": "stream",
          "text": [
            "the Trained Ridge model is 0.34845153627219105\n",
            "the Test Ridge model is 0.2948887163699776\n"
          ]
        }
      ],
      "source": [
        "#Evaluate the RIDGE MODEL\n",
        "print(f'the Trained Ridge model is {alpha_cv.score(Z_train,y_train)}')\n",
        "print(f'the Test Ridge model is {alpha_cv.score(Z_test,y_test)}')"
      ]
    },
    {
      "cell_type": "markdown",
      "metadata": {},
      "source": [
        "## Lasso Regression"
      ]
    },
    {
      "cell_type": "code",
      "execution_count": 1066,
      "metadata": {},
      "outputs": [],
      "source": [
        "from sklearn.linear_model import Lasso, LassoCV"
      ]
    },
    {
      "cell_type": "markdown",
      "metadata": {},
      "source": [
        "- lets reiterate the OLS score and Ridge score"
      ]
    },
    {
      "cell_type": "code",
      "execution_count": 1067,
      "metadata": {},
      "outputs": [
        {
          "name": "stdout",
          "output_type": "stream",
          "text": [
            "====================== OLS regression ======================\n",
            "the OLS trained score is 0.4069819524268309\n",
            " the OLS test score is 0.22021547039848244\n",
            "===================== Ridge regression =====================\n",
            "the Trained Ridge model is 0.34845153627219105\n",
            "the Test Ridge model is 0.2948887163699776\n"
          ]
        }
      ],
      "source": [
        "print(\" OLS regression \".center(60, \"=\"))\n",
        "print(f'the OLS trained score is {ols.score(Z_train,y_train)}')\n",
        "print(f\" the OLS test score is {ols.score(Z_test,y_test)}\")\n",
        "\n",
        "print(\" Ridge regression \".center(60, \"=\"))\n",
        "print(f'the Trained Ridge model is {alpha_cv.score(Z_train,y_train)}')\n",
        "print(f'the Test Ridge model is {alpha_cv.score(Z_test,y_test)}')"
      ]
    },
    {
      "cell_type": "code",
      "execution_count": 1068,
      "metadata": {},
      "outputs": [
        {
          "name": "stderr",
          "output_type": "stream",
          "text": [
            "/Users/gracechongzuting/opt/anaconda3/lib/python3.9/site-packages/sklearn/linear_model/_coordinate_descent.py:633: ConvergenceWarning: Objective did not converge. You might want to increase the number of iterations. Duality gap: 0.1390382137137749, tolerance: 0.11911789608723546\n",
            "  model = cd_fast.enet_coordinate_descent_gram(\n",
            "/Users/gracechongzuting/opt/anaconda3/lib/python3.9/site-packages/sklearn/linear_model/_coordinate_descent.py:633: ConvergenceWarning: Objective did not converge. You might want to increase the number of iterations. Duality gap: 0.38770230378145243, tolerance: 0.11911789608723546\n",
            "  model = cd_fast.enet_coordinate_descent_gram(\n",
            "/Users/gracechongzuting/opt/anaconda3/lib/python3.9/site-packages/sklearn/linear_model/_coordinate_descent.py:633: ConvergenceWarning: Objective did not converge. You might want to increase the number of iterations. Duality gap: 0.5703295118569258, tolerance: 0.11911789608723546\n",
            "  model = cd_fast.enet_coordinate_descent_gram(\n",
            "/Users/gracechongzuting/opt/anaconda3/lib/python3.9/site-packages/sklearn/linear_model/_coordinate_descent.py:633: ConvergenceWarning: Objective did not converge. You might want to increase the number of iterations. Duality gap: 0.6072066178795694, tolerance: 0.11911789608723546\n",
            "  model = cd_fast.enet_coordinate_descent_gram(\n",
            "/Users/gracechongzuting/opt/anaconda3/lib/python3.9/site-packages/sklearn/linear_model/_coordinate_descent.py:633: ConvergenceWarning: Objective did not converge. You might want to increase the number of iterations. Duality gap: 0.8239616358287094, tolerance: 0.11911789608723546\n",
            "  model = cd_fast.enet_coordinate_descent_gram(\n",
            "/Users/gracechongzuting/opt/anaconda3/lib/python3.9/site-packages/sklearn/linear_model/_coordinate_descent.py:633: ConvergenceWarning: Objective did not converge. You might want to increase the number of iterations. Duality gap: 0.926343154170354, tolerance: 0.11911789608723546\n",
            "  model = cd_fast.enet_coordinate_descent_gram(\n",
            "/Users/gracechongzuting/opt/anaconda3/lib/python3.9/site-packages/sklearn/linear_model/_coordinate_descent.py:633: ConvergenceWarning: Objective did not converge. You might want to increase the number of iterations. Duality gap: 0.9381259168224005, tolerance: 0.11911789608723546\n",
            "  model = cd_fast.enet_coordinate_descent_gram(\n",
            "/Users/gracechongzuting/opt/anaconda3/lib/python3.9/site-packages/sklearn/linear_model/_coordinate_descent.py:633: ConvergenceWarning: Objective did not converge. You might want to increase the number of iterations. Duality gap: 0.8321267703670401, tolerance: 0.11911789608723546\n",
            "  model = cd_fast.enet_coordinate_descent_gram(\n",
            "/Users/gracechongzuting/opt/anaconda3/lib/python3.9/site-packages/sklearn/linear_model/_coordinate_descent.py:633: ConvergenceWarning: Objective did not converge. You might want to increase the number of iterations. Duality gap: 0.9585763154432243, tolerance: 0.11911789608723546\n",
            "  model = cd_fast.enet_coordinate_descent_gram(\n",
            "/Users/gracechongzuting/opt/anaconda3/lib/python3.9/site-packages/sklearn/linear_model/_coordinate_descent.py:633: ConvergenceWarning: Objective did not converge. You might want to increase the number of iterations. Duality gap: 1.0990755403123558, tolerance: 0.11911789608723546\n",
            "  model = cd_fast.enet_coordinate_descent_gram(\n",
            "/Users/gracechongzuting/opt/anaconda3/lib/python3.9/site-packages/sklearn/linear_model/_coordinate_descent.py:633: ConvergenceWarning: Objective did not converge. You might want to increase the number of iterations. Duality gap: 1.1656515907867515, tolerance: 0.11911789608723546\n",
            "  model = cd_fast.enet_coordinate_descent_gram(\n",
            "/Users/gracechongzuting/opt/anaconda3/lib/python3.9/site-packages/sklearn/linear_model/_coordinate_descent.py:633: ConvergenceWarning: Objective did not converge. You might want to increase the number of iterations. Duality gap: 0.9904347843445294, tolerance: 0.11911789608723546\n",
            "  model = cd_fast.enet_coordinate_descent_gram(\n",
            "/Users/gracechongzuting/opt/anaconda3/lib/python3.9/site-packages/sklearn/linear_model/_coordinate_descent.py:633: ConvergenceWarning: Objective did not converge. You might want to increase the number of iterations. Duality gap: 0.21278818942482758, tolerance: 0.11472982681205922\n",
            "  model = cd_fast.enet_coordinate_descent_gram(\n",
            "/Users/gracechongzuting/opt/anaconda3/lib/python3.9/site-packages/sklearn/linear_model/_coordinate_descent.py:633: ConvergenceWarning: Objective did not converge. You might want to increase the number of iterations. Duality gap: 0.24379250363745086, tolerance: 0.11472982681205922\n",
            "  model = cd_fast.enet_coordinate_descent_gram(\n",
            "/Users/gracechongzuting/opt/anaconda3/lib/python3.9/site-packages/sklearn/linear_model/_coordinate_descent.py:633: ConvergenceWarning: Objective did not converge. You might want to increase the number of iterations. Duality gap: 0.29156188804324756, tolerance: 0.11472982681205922\n",
            "  model = cd_fast.enet_coordinate_descent_gram(\n",
            "/Users/gracechongzuting/opt/anaconda3/lib/python3.9/site-packages/sklearn/linear_model/_coordinate_descent.py:633: ConvergenceWarning: Objective did not converge. You might want to increase the number of iterations. Duality gap: 0.6655390205521599, tolerance: 0.11472982681205922\n",
            "  model = cd_fast.enet_coordinate_descent_gram(\n",
            "/Users/gracechongzuting/opt/anaconda3/lib/python3.9/site-packages/sklearn/linear_model/_coordinate_descent.py:633: ConvergenceWarning: Objective did not converge. You might want to increase the number of iterations. Duality gap: 0.718784101154256, tolerance: 0.11472982681205922\n",
            "  model = cd_fast.enet_coordinate_descent_gram(\n",
            "/Users/gracechongzuting/opt/anaconda3/lib/python3.9/site-packages/sklearn/linear_model/_coordinate_descent.py:633: ConvergenceWarning: Objective did not converge. You might want to increase the number of iterations. Duality gap: 0.7212640306333924, tolerance: 0.11472982681205922\n",
            "  model = cd_fast.enet_coordinate_descent_gram(\n",
            "/Users/gracechongzuting/opt/anaconda3/lib/python3.9/site-packages/sklearn/linear_model/_coordinate_descent.py:633: ConvergenceWarning: Objective did not converge. You might want to increase the number of iterations. Duality gap: 0.8008115445600197, tolerance: 0.11472982681205922\n",
            "  model = cd_fast.enet_coordinate_descent_gram(\n",
            "/Users/gracechongzuting/opt/anaconda3/lib/python3.9/site-packages/sklearn/linear_model/_coordinate_descent.py:633: ConvergenceWarning: Objective did not converge. You might want to increase the number of iterations. Duality gap: 0.7072681269313534, tolerance: 0.11472982681205922\n",
            "  model = cd_fast.enet_coordinate_descent_gram(\n",
            "/Users/gracechongzuting/opt/anaconda3/lib/python3.9/site-packages/sklearn/linear_model/_coordinate_descent.py:633: ConvergenceWarning: Objective did not converge. You might want to increase the number of iterations. Duality gap: 0.72304082430378, tolerance: 0.11472982681205922\n",
            "  model = cd_fast.enet_coordinate_descent_gram(\n",
            "/Users/gracechongzuting/opt/anaconda3/lib/python3.9/site-packages/sklearn/linear_model/_coordinate_descent.py:633: ConvergenceWarning: Objective did not converge. You might want to increase the number of iterations. Duality gap: 0.7661043086554855, tolerance: 0.11472982681205922\n",
            "  model = cd_fast.enet_coordinate_descent_gram(\n",
            "/Users/gracechongzuting/opt/anaconda3/lib/python3.9/site-packages/sklearn/linear_model/_coordinate_descent.py:633: ConvergenceWarning: Objective did not converge. You might want to increase the number of iterations. Duality gap: 0.6541605763319467, tolerance: 0.11472982681205922\n",
            "  model = cd_fast.enet_coordinate_descent_gram(\n",
            "/Users/gracechongzuting/opt/anaconda3/lib/python3.9/site-packages/sklearn/linear_model/_coordinate_descent.py:633: ConvergenceWarning: Objective did not converge. You might want to increase the number of iterations. Duality gap: 0.7830662123872116, tolerance: 0.11472982681205922\n",
            "  model = cd_fast.enet_coordinate_descent_gram(\n",
            "/Users/gracechongzuting/opt/anaconda3/lib/python3.9/site-packages/sklearn/linear_model/_coordinate_descent.py:633: ConvergenceWarning: Objective did not converge. You might want to increase the number of iterations. Duality gap: 0.7267494768761935, tolerance: 0.11472982681205922\n",
            "  model = cd_fast.enet_coordinate_descent_gram(\n",
            "/Users/gracechongzuting/opt/anaconda3/lib/python3.9/site-packages/sklearn/linear_model/_coordinate_descent.py:633: ConvergenceWarning: Objective did not converge. You might want to increase the number of iterations. Duality gap: 0.9697796191674115, tolerance: 0.11472982681205922\n",
            "  model = cd_fast.enet_coordinate_descent_gram(\n",
            "/Users/gracechongzuting/opt/anaconda3/lib/python3.9/site-packages/sklearn/linear_model/_coordinate_descent.py:633: ConvergenceWarning: Objective did not converge. You might want to increase the number of iterations. Duality gap: 0.2560331282451216, tolerance: 0.11279486850545255\n",
            "  model = cd_fast.enet_coordinate_descent_gram(\n",
            "/Users/gracechongzuting/opt/anaconda3/lib/python3.9/site-packages/sklearn/linear_model/_coordinate_descent.py:633: ConvergenceWarning: Objective did not converge. You might want to increase the number of iterations. Duality gap: 0.23548942768275083, tolerance: 0.11279486850545255\n",
            "  model = cd_fast.enet_coordinate_descent_gram(\n",
            "/Users/gracechongzuting/opt/anaconda3/lib/python3.9/site-packages/sklearn/linear_model/_coordinate_descent.py:633: ConvergenceWarning: Objective did not converge. You might want to increase the number of iterations. Duality gap: 0.3131654117034941, tolerance: 0.11279486850545255\n",
            "  model = cd_fast.enet_coordinate_descent_gram(\n",
            "/Users/gracechongzuting/opt/anaconda3/lib/python3.9/site-packages/sklearn/linear_model/_coordinate_descent.py:633: ConvergenceWarning: Objective did not converge. You might want to increase the number of iterations. Duality gap: 0.5970826153230746, tolerance: 0.11279486850545255\n",
            "  model = cd_fast.enet_coordinate_descent_gram(\n",
            "/Users/gracechongzuting/opt/anaconda3/lib/python3.9/site-packages/sklearn/linear_model/_coordinate_descent.py:633: ConvergenceWarning: Objective did not converge. You might want to increase the number of iterations. Duality gap: 0.7993752948381143, tolerance: 0.11279486850545255\n",
            "  model = cd_fast.enet_coordinate_descent_gram(\n",
            "/Users/gracechongzuting/opt/anaconda3/lib/python3.9/site-packages/sklearn/linear_model/_coordinate_descent.py:633: ConvergenceWarning: Objective did not converge. You might want to increase the number of iterations. Duality gap: 1.1768953052560391, tolerance: 0.11279486850545255\n",
            "  model = cd_fast.enet_coordinate_descent_gram(\n",
            "/Users/gracechongzuting/opt/anaconda3/lib/python3.9/site-packages/sklearn/linear_model/_coordinate_descent.py:633: ConvergenceWarning: Objective did not converge. You might want to increase the number of iterations. Duality gap: 1.0300252204494882, tolerance: 0.11279486850545255\n",
            "  model = cd_fast.enet_coordinate_descent_gram(\n",
            "/Users/gracechongzuting/opt/anaconda3/lib/python3.9/site-packages/sklearn/linear_model/_coordinate_descent.py:633: ConvergenceWarning: Objective did not converge. You might want to increase the number of iterations. Duality gap: 1.1327840130700224, tolerance: 0.11279486850545255\n",
            "  model = cd_fast.enet_coordinate_descent_gram(\n",
            "/Users/gracechongzuting/opt/anaconda3/lib/python3.9/site-packages/sklearn/linear_model/_coordinate_descent.py:633: ConvergenceWarning: Objective did not converge. You might want to increase the number of iterations. Duality gap: 1.2646890975081533, tolerance: 0.11279486850545255\n",
            "  model = cd_fast.enet_coordinate_descent_gram(\n",
            "/Users/gracechongzuting/opt/anaconda3/lib/python3.9/site-packages/sklearn/linear_model/_coordinate_descent.py:633: ConvergenceWarning: Objective did not converge. You might want to increase the number of iterations. Duality gap: 1.3723632055030066, tolerance: 0.11279486850545255\n",
            "  model = cd_fast.enet_coordinate_descent_gram(\n",
            "/Users/gracechongzuting/opt/anaconda3/lib/python3.9/site-packages/sklearn/linear_model/_coordinate_descent.py:633: ConvergenceWarning: Objective did not converge. You might want to increase the number of iterations. Duality gap: 2.0209804215955955, tolerance: 0.11279486850545255\n",
            "  model = cd_fast.enet_coordinate_descent_gram(\n",
            "/Users/gracechongzuting/opt/anaconda3/lib/python3.9/site-packages/sklearn/linear_model/_coordinate_descent.py:633: ConvergenceWarning: Objective did not converge. You might want to increase the number of iterations. Duality gap: 0.1373104582880842, tolerance: 0.12144194996792815\n",
            "  model = cd_fast.enet_coordinate_descent_gram(\n",
            "/Users/gracechongzuting/opt/anaconda3/lib/python3.9/site-packages/sklearn/linear_model/_coordinate_descent.py:633: ConvergenceWarning: Objective did not converge. You might want to increase the number of iterations. Duality gap: 0.1564425451219904, tolerance: 0.12144194996792815\n",
            "  model = cd_fast.enet_coordinate_descent_gram(\n",
            "/Users/gracechongzuting/opt/anaconda3/lib/python3.9/site-packages/sklearn/linear_model/_coordinate_descent.py:633: ConvergenceWarning: Objective did not converge. You might want to increase the number of iterations. Duality gap: 0.21369972098659673, tolerance: 0.12144194996792815\n",
            "  model = cd_fast.enet_coordinate_descent_gram(\n",
            "/Users/gracechongzuting/opt/anaconda3/lib/python3.9/site-packages/sklearn/linear_model/_coordinate_descent.py:633: ConvergenceWarning: Objective did not converge. You might want to increase the number of iterations. Duality gap: 0.34134634665019803, tolerance: 0.12144194996792815\n",
            "  model = cd_fast.enet_coordinate_descent_gram(\n",
            "/Users/gracechongzuting/opt/anaconda3/lib/python3.9/site-packages/sklearn/linear_model/_coordinate_descent.py:633: ConvergenceWarning: Objective did not converge. You might want to increase the number of iterations. Duality gap: 0.3820201658800215, tolerance: 0.12144194996792815\n",
            "  model = cd_fast.enet_coordinate_descent_gram(\n",
            "/Users/gracechongzuting/opt/anaconda3/lib/python3.9/site-packages/sklearn/linear_model/_coordinate_descent.py:633: ConvergenceWarning: Objective did not converge. You might want to increase the number of iterations. Duality gap: 0.33016089557440864, tolerance: 0.12144194996792815\n",
            "  model = cd_fast.enet_coordinate_descent_gram(\n",
            "/Users/gracechongzuting/opt/anaconda3/lib/python3.9/site-packages/sklearn/linear_model/_coordinate_descent.py:633: ConvergenceWarning: Objective did not converge. You might want to increase the number of iterations. Duality gap: 0.364794395519084, tolerance: 0.12144194996792815\n",
            "  model = cd_fast.enet_coordinate_descent_gram(\n",
            "/Users/gracechongzuting/opt/anaconda3/lib/python3.9/site-packages/sklearn/linear_model/_coordinate_descent.py:633: ConvergenceWarning: Objective did not converge. You might want to increase the number of iterations. Duality gap: 0.6312047161238752, tolerance: 0.12144194996792815\n",
            "  model = cd_fast.enet_coordinate_descent_gram(\n",
            "/Users/gracechongzuting/opt/anaconda3/lib/python3.9/site-packages/sklearn/linear_model/_coordinate_descent.py:633: ConvergenceWarning: Objective did not converge. You might want to increase the number of iterations. Duality gap: 0.4609748720773723, tolerance: 0.12144194996792815\n",
            "  model = cd_fast.enet_coordinate_descent_gram(\n",
            "/Users/gracechongzuting/opt/anaconda3/lib/python3.9/site-packages/sklearn/linear_model/_coordinate_descent.py:633: ConvergenceWarning: Objective did not converge. You might want to increase the number of iterations. Duality gap: 0.4880646109609188, tolerance: 0.12144194996792815\n",
            "  model = cd_fast.enet_coordinate_descent_gram(\n",
            "/Users/gracechongzuting/opt/anaconda3/lib/python3.9/site-packages/sklearn/linear_model/_coordinate_descent.py:633: ConvergenceWarning: Objective did not converge. You might want to increase the number of iterations. Duality gap: 0.4962268109300112, tolerance: 0.12144194996792815\n",
            "  model = cd_fast.enet_coordinate_descent_gram(\n",
            "/Users/gracechongzuting/opt/anaconda3/lib/python3.9/site-packages/sklearn/linear_model/_coordinate_descent.py:633: ConvergenceWarning: Objective did not converge. You might want to increase the number of iterations. Duality gap: 0.5789852984894424, tolerance: 0.12144194996792815\n",
            "  model = cd_fast.enet_coordinate_descent_gram(\n",
            "/Users/gracechongzuting/opt/anaconda3/lib/python3.9/site-packages/sklearn/linear_model/_coordinate_descent.py:633: ConvergenceWarning: Objective did not converge. You might want to increase the number of iterations. Duality gap: 0.7125739115817851, tolerance: 0.12144194996792815\n",
            "  model = cd_fast.enet_coordinate_descent_gram(\n",
            "/Users/gracechongzuting/opt/anaconda3/lib/python3.9/site-packages/sklearn/linear_model/_coordinate_descent.py:633: ConvergenceWarning: Objective did not converge. You might want to increase the number of iterations. Duality gap: 2.817600515668232, tolerance: 0.12144194996792815\n",
            "  model = cd_fast.enet_coordinate_descent_gram(\n",
            "/Users/gracechongzuting/opt/anaconda3/lib/python3.9/site-packages/sklearn/linear_model/_coordinate_descent.py:633: ConvergenceWarning: Objective did not converge. You might want to increase the number of iterations. Duality gap: 6.283968800447724, tolerance: 0.12144194996792815\n",
            "  model = cd_fast.enet_coordinate_descent_gram(\n",
            "/Users/gracechongzuting/opt/anaconda3/lib/python3.9/site-packages/sklearn/linear_model/_coordinate_descent.py:633: ConvergenceWarning: Objective did not converge. You might want to increase the number of iterations. Duality gap: 7.9656797118950635, tolerance: 0.12144194996792815\n",
            "  model = cd_fast.enet_coordinate_descent_gram(\n",
            "/Users/gracechongzuting/opt/anaconda3/lib/python3.9/site-packages/sklearn/linear_model/_coordinate_descent.py:633: ConvergenceWarning: Objective did not converge. You might want to increase the number of iterations. Duality gap: 0.1633258144950105, tolerance: 0.11676307692307683\n",
            "  model = cd_fast.enet_coordinate_descent_gram(\n",
            "/Users/gracechongzuting/opt/anaconda3/lib/python3.9/site-packages/sklearn/linear_model/_coordinate_descent.py:633: ConvergenceWarning: Objective did not converge. You might want to increase the number of iterations. Duality gap: 0.12745613295533076, tolerance: 0.11676307692307683\n",
            "  model = cd_fast.enet_coordinate_descent_gram(\n",
            "/Users/gracechongzuting/opt/anaconda3/lib/python3.9/site-packages/sklearn/linear_model/_coordinate_descent.py:633: ConvergenceWarning: Objective did not converge. You might want to increase the number of iterations. Duality gap: 0.5187569487969768, tolerance: 0.11676307692307683\n",
            "  model = cd_fast.enet_coordinate_descent_gram(\n",
            "/Users/gracechongzuting/opt/anaconda3/lib/python3.9/site-packages/sklearn/linear_model/_coordinate_descent.py:633: ConvergenceWarning: Objective did not converge. You might want to increase the number of iterations. Duality gap: 0.7871093561625457, tolerance: 0.11676307692307683\n",
            "  model = cd_fast.enet_coordinate_descent_gram(\n",
            "/Users/gracechongzuting/opt/anaconda3/lib/python3.9/site-packages/sklearn/linear_model/_coordinate_descent.py:633: ConvergenceWarning: Objective did not converge. You might want to increase the number of iterations. Duality gap: 0.9151035245358798, tolerance: 0.11676307692307683\n",
            "  model = cd_fast.enet_coordinate_descent_gram(\n",
            "/Users/gracechongzuting/opt/anaconda3/lib/python3.9/site-packages/sklearn/linear_model/_coordinate_descent.py:633: ConvergenceWarning: Objective did not converge. You might want to increase the number of iterations. Duality gap: 0.7004320959786128, tolerance: 0.11676307692307683\n",
            "  model = cd_fast.enet_coordinate_descent_gram(\n",
            "/Users/gracechongzuting/opt/anaconda3/lib/python3.9/site-packages/sklearn/linear_model/_coordinate_descent.py:633: ConvergenceWarning: Objective did not converge. You might want to increase the number of iterations. Duality gap: 0.7460332757697188, tolerance: 0.11676307692307683\n",
            "  model = cd_fast.enet_coordinate_descent_gram(\n",
            "/Users/gracechongzuting/opt/anaconda3/lib/python3.9/site-packages/sklearn/linear_model/_coordinate_descent.py:633: ConvergenceWarning: Objective did not converge. You might want to increase the number of iterations. Duality gap: 0.871287743909761, tolerance: 0.11676307692307683\n",
            "  model = cd_fast.enet_coordinate_descent_gram(\n",
            "/Users/gracechongzuting/opt/anaconda3/lib/python3.9/site-packages/sklearn/linear_model/_coordinate_descent.py:633: ConvergenceWarning: Objective did not converge. You might want to increase the number of iterations. Duality gap: 0.7502001828798939, tolerance: 0.11676307692307683\n",
            "  model = cd_fast.enet_coordinate_descent_gram(\n",
            "/Users/gracechongzuting/opt/anaconda3/lib/python3.9/site-packages/sklearn/linear_model/_coordinate_descent.py:633: ConvergenceWarning: Objective did not converge. You might want to increase the number of iterations. Duality gap: 0.7258801107144564, tolerance: 0.11676307692307683\n",
            "  model = cd_fast.enet_coordinate_descent_gram(\n",
            "/Users/gracechongzuting/opt/anaconda3/lib/python3.9/site-packages/sklearn/linear_model/_coordinate_descent.py:633: ConvergenceWarning: Objective did not converge. You might want to increase the number of iterations. Duality gap: 0.7673623394081233, tolerance: 0.11676307692307683\n",
            "  model = cd_fast.enet_coordinate_descent_gram(\n",
            "/Users/gracechongzuting/opt/anaconda3/lib/python3.9/site-packages/sklearn/linear_model/_coordinate_descent.py:633: ConvergenceWarning: Objective did not converge. You might want to increase the number of iterations. Duality gap: 1.2274200853340744, tolerance: 0.11676307692307683\n",
            "  model = cd_fast.enet_coordinate_descent_gram(\n",
            "/Users/gracechongzuting/opt/anaconda3/lib/python3.9/site-packages/sklearn/linear_model/_coordinate_descent.py:633: ConvergenceWarning: Objective did not converge. You might want to increase the number of iterations. Duality gap: 1.3321331231481963, tolerance: 0.11676307692307683\n",
            "  model = cd_fast.enet_coordinate_descent_gram(\n",
            "/Users/gracechongzuting/opt/anaconda3/lib/python3.9/site-packages/sklearn/linear_model/_coordinate_descent.py:633: ConvergenceWarning: Objective did not converge. You might want to increase the number of iterations. Duality gap: 1.2248453214463098, tolerance: 0.11676307692307683\n",
            "  model = cd_fast.enet_coordinate_descent_gram(\n",
            "/Users/gracechongzuting/opt/anaconda3/lib/python3.9/site-packages/sklearn/linear_model/_coordinate_descent.py:647: ConvergenceWarning: Objective did not converge. You might want to increase the number of iterations, check the scale of the features or consider increasing regularisation. Duality gap: 1.523e-01, tolerance: 1.462e-01\n",
            "  model = cd_fast.enet_coordinate_descent(\n"
          ]
        },
        {
          "data": {
            "text/plain": [
              "LassoCV(alphas=array([1.00000000e-03, 1.09749877e-03, 1.20450354e-03, 1.32194115e-03,\n",
              "       1.45082878e-03, 1.59228279e-03, 1.74752840e-03, 1.91791026e-03,\n",
              "       2.10490414e-03, 2.31012970e-03, 2.53536449e-03, 2.78255940e-03,\n",
              "       3.05385551e-03, 3.35160265e-03, 3.67837977e-03, 4.03701726e-03,\n",
              "       4.43062146e-03, 4.86260158e-03, 5.33669923e-03, 5.85702082e-03,\n",
              "       6.42807312e-03, 7.05480231e-0...\n",
              "       1.17681195e+00, 1.29154967e+00, 1.41747416e+00, 1.55567614e+00,\n",
              "       1.70735265e+00, 1.87381742e+00, 2.05651231e+00, 2.25701972e+00,\n",
              "       2.47707636e+00, 2.71858824e+00, 2.98364724e+00, 3.27454916e+00,\n",
              "       3.59381366e+00, 3.94420606e+00, 4.32876128e+00, 4.75081016e+00,\n",
              "       5.21400829e+00, 5.72236766e+00, 6.28029144e+00, 6.89261210e+00,\n",
              "       7.56463328e+00, 8.30217568e+00, 9.11162756e+00, 1.00000000e+01]),\n",
              "        cv=5, max_iter=500)"
            ]
          },
          "execution_count": 1068,
          "metadata": {},
          "output_type": "execute_result"
        }
      ],
      "source": [
        "# Set up a list of Lasso alphas to check.\n",
        "lasso_alphas = np.logspace(-3,1,100)\n",
        "\n",
        "# Cross-validate over our list of Lasso alphas.\n",
        "lasso_cv = LassoCV (alphas=lasso_alphas, cv = 5, max_iter=500)\n",
        "\n",
        "# Fit model using best ridge alpha!\n",
        "lasso_cv.fit(Z_train,y_train)\n",
        "\n"
      ]
    },
    {
      "cell_type": "code",
      "execution_count": 1069,
      "metadata": {},
      "outputs": [],
      "source": [
        "# Cross-validate over our list of Lasso alphas.\n",
        "lasso_cv = LassoCV (alphas=lasso_alphas, cv = 5, max_iter=500)"
      ]
    },
    {
      "cell_type": "code",
      "execution_count": 1070,
      "metadata": {},
      "outputs": [
        {
          "name": "stderr",
          "output_type": "stream",
          "text": [
            "/Users/gracechongzuting/opt/anaconda3/lib/python3.9/site-packages/sklearn/linear_model/_coordinate_descent.py:633: ConvergenceWarning: Objective did not converge. You might want to increase the number of iterations. Duality gap: 0.1390382137137749, tolerance: 0.11911789608723546\n",
            "  model = cd_fast.enet_coordinate_descent_gram(\n",
            "/Users/gracechongzuting/opt/anaconda3/lib/python3.9/site-packages/sklearn/linear_model/_coordinate_descent.py:633: ConvergenceWarning: Objective did not converge. You might want to increase the number of iterations. Duality gap: 0.38770230378145243, tolerance: 0.11911789608723546\n",
            "  model = cd_fast.enet_coordinate_descent_gram(\n",
            "/Users/gracechongzuting/opt/anaconda3/lib/python3.9/site-packages/sklearn/linear_model/_coordinate_descent.py:633: ConvergenceWarning: Objective did not converge. You might want to increase the number of iterations. Duality gap: 0.5703295118569258, tolerance: 0.11911789608723546\n",
            "  model = cd_fast.enet_coordinate_descent_gram(\n",
            "/Users/gracechongzuting/opt/anaconda3/lib/python3.9/site-packages/sklearn/linear_model/_coordinate_descent.py:633: ConvergenceWarning: Objective did not converge. You might want to increase the number of iterations. Duality gap: 0.6072066178795694, tolerance: 0.11911789608723546\n",
            "  model = cd_fast.enet_coordinate_descent_gram(\n",
            "/Users/gracechongzuting/opt/anaconda3/lib/python3.9/site-packages/sklearn/linear_model/_coordinate_descent.py:633: ConvergenceWarning: Objective did not converge. You might want to increase the number of iterations. Duality gap: 0.8239616358287094, tolerance: 0.11911789608723546\n",
            "  model = cd_fast.enet_coordinate_descent_gram(\n",
            "/Users/gracechongzuting/opt/anaconda3/lib/python3.9/site-packages/sklearn/linear_model/_coordinate_descent.py:633: ConvergenceWarning: Objective did not converge. You might want to increase the number of iterations. Duality gap: 0.926343154170354, tolerance: 0.11911789608723546\n",
            "  model = cd_fast.enet_coordinate_descent_gram(\n",
            "/Users/gracechongzuting/opt/anaconda3/lib/python3.9/site-packages/sklearn/linear_model/_coordinate_descent.py:633: ConvergenceWarning: Objective did not converge. You might want to increase the number of iterations. Duality gap: 0.9381259168224005, tolerance: 0.11911789608723546\n",
            "  model = cd_fast.enet_coordinate_descent_gram(\n",
            "/Users/gracechongzuting/opt/anaconda3/lib/python3.9/site-packages/sklearn/linear_model/_coordinate_descent.py:633: ConvergenceWarning: Objective did not converge. You might want to increase the number of iterations. Duality gap: 0.8321267703670401, tolerance: 0.11911789608723546\n",
            "  model = cd_fast.enet_coordinate_descent_gram(\n",
            "/Users/gracechongzuting/opt/anaconda3/lib/python3.9/site-packages/sklearn/linear_model/_coordinate_descent.py:633: ConvergenceWarning: Objective did not converge. You might want to increase the number of iterations. Duality gap: 0.9585763154432243, tolerance: 0.11911789608723546\n",
            "  model = cd_fast.enet_coordinate_descent_gram(\n",
            "/Users/gracechongzuting/opt/anaconda3/lib/python3.9/site-packages/sklearn/linear_model/_coordinate_descent.py:633: ConvergenceWarning: Objective did not converge. You might want to increase the number of iterations. Duality gap: 1.0990755403123558, tolerance: 0.11911789608723546\n",
            "  model = cd_fast.enet_coordinate_descent_gram(\n",
            "/Users/gracechongzuting/opt/anaconda3/lib/python3.9/site-packages/sklearn/linear_model/_coordinate_descent.py:633: ConvergenceWarning: Objective did not converge. You might want to increase the number of iterations. Duality gap: 1.1656515907867515, tolerance: 0.11911789608723546\n",
            "  model = cd_fast.enet_coordinate_descent_gram(\n",
            "/Users/gracechongzuting/opt/anaconda3/lib/python3.9/site-packages/sklearn/linear_model/_coordinate_descent.py:633: ConvergenceWarning: Objective did not converge. You might want to increase the number of iterations. Duality gap: 0.9904347843445294, tolerance: 0.11911789608723546\n",
            "  model = cd_fast.enet_coordinate_descent_gram(\n",
            "/Users/gracechongzuting/opt/anaconda3/lib/python3.9/site-packages/sklearn/linear_model/_coordinate_descent.py:633: ConvergenceWarning: Objective did not converge. You might want to increase the number of iterations. Duality gap: 0.21278818942482758, tolerance: 0.11472982681205922\n",
            "  model = cd_fast.enet_coordinate_descent_gram(\n",
            "/Users/gracechongzuting/opt/anaconda3/lib/python3.9/site-packages/sklearn/linear_model/_coordinate_descent.py:633: ConvergenceWarning: Objective did not converge. You might want to increase the number of iterations. Duality gap: 0.24379250363745086, tolerance: 0.11472982681205922\n",
            "  model = cd_fast.enet_coordinate_descent_gram(\n",
            "/Users/gracechongzuting/opt/anaconda3/lib/python3.9/site-packages/sklearn/linear_model/_coordinate_descent.py:633: ConvergenceWarning: Objective did not converge. You might want to increase the number of iterations. Duality gap: 0.29156188804324756, tolerance: 0.11472982681205922\n",
            "  model = cd_fast.enet_coordinate_descent_gram(\n",
            "/Users/gracechongzuting/opt/anaconda3/lib/python3.9/site-packages/sklearn/linear_model/_coordinate_descent.py:633: ConvergenceWarning: Objective did not converge. You might want to increase the number of iterations. Duality gap: 0.6655390205521599, tolerance: 0.11472982681205922\n",
            "  model = cd_fast.enet_coordinate_descent_gram(\n",
            "/Users/gracechongzuting/opt/anaconda3/lib/python3.9/site-packages/sklearn/linear_model/_coordinate_descent.py:633: ConvergenceWarning: Objective did not converge. You might want to increase the number of iterations. Duality gap: 0.718784101154256, tolerance: 0.11472982681205922\n",
            "  model = cd_fast.enet_coordinate_descent_gram(\n",
            "/Users/gracechongzuting/opt/anaconda3/lib/python3.9/site-packages/sklearn/linear_model/_coordinate_descent.py:633: ConvergenceWarning: Objective did not converge. You might want to increase the number of iterations. Duality gap: 0.7212640306333924, tolerance: 0.11472982681205922\n",
            "  model = cd_fast.enet_coordinate_descent_gram(\n",
            "/Users/gracechongzuting/opt/anaconda3/lib/python3.9/site-packages/sklearn/linear_model/_coordinate_descent.py:633: ConvergenceWarning: Objective did not converge. You might want to increase the number of iterations. Duality gap: 0.8008115445600197, tolerance: 0.11472982681205922\n",
            "  model = cd_fast.enet_coordinate_descent_gram(\n",
            "/Users/gracechongzuting/opt/anaconda3/lib/python3.9/site-packages/sklearn/linear_model/_coordinate_descent.py:633: ConvergenceWarning: Objective did not converge. You might want to increase the number of iterations. Duality gap: 0.7072681269313534, tolerance: 0.11472982681205922\n",
            "  model = cd_fast.enet_coordinate_descent_gram(\n",
            "/Users/gracechongzuting/opt/anaconda3/lib/python3.9/site-packages/sklearn/linear_model/_coordinate_descent.py:633: ConvergenceWarning: Objective did not converge. You might want to increase the number of iterations. Duality gap: 0.72304082430378, tolerance: 0.11472982681205922\n",
            "  model = cd_fast.enet_coordinate_descent_gram(\n",
            "/Users/gracechongzuting/opt/anaconda3/lib/python3.9/site-packages/sklearn/linear_model/_coordinate_descent.py:633: ConvergenceWarning: Objective did not converge. You might want to increase the number of iterations. Duality gap: 0.7661043086554855, tolerance: 0.11472982681205922\n",
            "  model = cd_fast.enet_coordinate_descent_gram(\n",
            "/Users/gracechongzuting/opt/anaconda3/lib/python3.9/site-packages/sklearn/linear_model/_coordinate_descent.py:633: ConvergenceWarning: Objective did not converge. You might want to increase the number of iterations. Duality gap: 0.6541605763319467, tolerance: 0.11472982681205922\n",
            "  model = cd_fast.enet_coordinate_descent_gram(\n",
            "/Users/gracechongzuting/opt/anaconda3/lib/python3.9/site-packages/sklearn/linear_model/_coordinate_descent.py:633: ConvergenceWarning: Objective did not converge. You might want to increase the number of iterations. Duality gap: 0.7830662123872116, tolerance: 0.11472982681205922\n",
            "  model = cd_fast.enet_coordinate_descent_gram(\n",
            "/Users/gracechongzuting/opt/anaconda3/lib/python3.9/site-packages/sklearn/linear_model/_coordinate_descent.py:633: ConvergenceWarning: Objective did not converge. You might want to increase the number of iterations. Duality gap: 0.7267494768761935, tolerance: 0.11472982681205922\n",
            "  model = cd_fast.enet_coordinate_descent_gram(\n",
            "/Users/gracechongzuting/opt/anaconda3/lib/python3.9/site-packages/sklearn/linear_model/_coordinate_descent.py:633: ConvergenceWarning: Objective did not converge. You might want to increase the number of iterations. Duality gap: 0.9697796191674115, tolerance: 0.11472982681205922\n",
            "  model = cd_fast.enet_coordinate_descent_gram(\n",
            "/Users/gracechongzuting/opt/anaconda3/lib/python3.9/site-packages/sklearn/linear_model/_coordinate_descent.py:633: ConvergenceWarning: Objective did not converge. You might want to increase the number of iterations. Duality gap: 0.2560331282451216, tolerance: 0.11279486850545255\n",
            "  model = cd_fast.enet_coordinate_descent_gram(\n",
            "/Users/gracechongzuting/opt/anaconda3/lib/python3.9/site-packages/sklearn/linear_model/_coordinate_descent.py:633: ConvergenceWarning: Objective did not converge. You might want to increase the number of iterations. Duality gap: 0.23548942768275083, tolerance: 0.11279486850545255\n",
            "  model = cd_fast.enet_coordinate_descent_gram(\n",
            "/Users/gracechongzuting/opt/anaconda3/lib/python3.9/site-packages/sklearn/linear_model/_coordinate_descent.py:633: ConvergenceWarning: Objective did not converge. You might want to increase the number of iterations. Duality gap: 0.3131654117034941, tolerance: 0.11279486850545255\n",
            "  model = cd_fast.enet_coordinate_descent_gram(\n",
            "/Users/gracechongzuting/opt/anaconda3/lib/python3.9/site-packages/sklearn/linear_model/_coordinate_descent.py:633: ConvergenceWarning: Objective did not converge. You might want to increase the number of iterations. Duality gap: 0.5970826153230746, tolerance: 0.11279486850545255\n",
            "  model = cd_fast.enet_coordinate_descent_gram(\n",
            "/Users/gracechongzuting/opt/anaconda3/lib/python3.9/site-packages/sklearn/linear_model/_coordinate_descent.py:633: ConvergenceWarning: Objective did not converge. You might want to increase the number of iterations. Duality gap: 0.7993752948381143, tolerance: 0.11279486850545255\n",
            "  model = cd_fast.enet_coordinate_descent_gram(\n",
            "/Users/gracechongzuting/opt/anaconda3/lib/python3.9/site-packages/sklearn/linear_model/_coordinate_descent.py:633: ConvergenceWarning: Objective did not converge. You might want to increase the number of iterations. Duality gap: 1.1768953052560391, tolerance: 0.11279486850545255\n",
            "  model = cd_fast.enet_coordinate_descent_gram(\n",
            "/Users/gracechongzuting/opt/anaconda3/lib/python3.9/site-packages/sklearn/linear_model/_coordinate_descent.py:633: ConvergenceWarning: Objective did not converge. You might want to increase the number of iterations. Duality gap: 1.0300252204494882, tolerance: 0.11279486850545255\n",
            "  model = cd_fast.enet_coordinate_descent_gram(\n",
            "/Users/gracechongzuting/opt/anaconda3/lib/python3.9/site-packages/sklearn/linear_model/_coordinate_descent.py:633: ConvergenceWarning: Objective did not converge. You might want to increase the number of iterations. Duality gap: 1.1327840130700224, tolerance: 0.11279486850545255\n",
            "  model = cd_fast.enet_coordinate_descent_gram(\n",
            "/Users/gracechongzuting/opt/anaconda3/lib/python3.9/site-packages/sklearn/linear_model/_coordinate_descent.py:633: ConvergenceWarning: Objective did not converge. You might want to increase the number of iterations. Duality gap: 1.2646890975081533, tolerance: 0.11279486850545255\n",
            "  model = cd_fast.enet_coordinate_descent_gram(\n",
            "/Users/gracechongzuting/opt/anaconda3/lib/python3.9/site-packages/sklearn/linear_model/_coordinate_descent.py:633: ConvergenceWarning: Objective did not converge. You might want to increase the number of iterations. Duality gap: 1.3723632055030066, tolerance: 0.11279486850545255\n",
            "  model = cd_fast.enet_coordinate_descent_gram(\n",
            "/Users/gracechongzuting/opt/anaconda3/lib/python3.9/site-packages/sklearn/linear_model/_coordinate_descent.py:633: ConvergenceWarning: Objective did not converge. You might want to increase the number of iterations. Duality gap: 2.0209804215955955, tolerance: 0.11279486850545255\n",
            "  model = cd_fast.enet_coordinate_descent_gram(\n",
            "/Users/gracechongzuting/opt/anaconda3/lib/python3.9/site-packages/sklearn/linear_model/_coordinate_descent.py:633: ConvergenceWarning: Objective did not converge. You might want to increase the number of iterations. Duality gap: 0.1373104582880842, tolerance: 0.12144194996792815\n",
            "  model = cd_fast.enet_coordinate_descent_gram(\n",
            "/Users/gracechongzuting/opt/anaconda3/lib/python3.9/site-packages/sklearn/linear_model/_coordinate_descent.py:633: ConvergenceWarning: Objective did not converge. You might want to increase the number of iterations. Duality gap: 0.1564425451219904, tolerance: 0.12144194996792815\n",
            "  model = cd_fast.enet_coordinate_descent_gram(\n",
            "/Users/gracechongzuting/opt/anaconda3/lib/python3.9/site-packages/sklearn/linear_model/_coordinate_descent.py:633: ConvergenceWarning: Objective did not converge. You might want to increase the number of iterations. Duality gap: 0.21369972098659673, tolerance: 0.12144194996792815\n",
            "  model = cd_fast.enet_coordinate_descent_gram(\n",
            "/Users/gracechongzuting/opt/anaconda3/lib/python3.9/site-packages/sklearn/linear_model/_coordinate_descent.py:633: ConvergenceWarning: Objective did not converge. You might want to increase the number of iterations. Duality gap: 0.34134634665019803, tolerance: 0.12144194996792815\n",
            "  model = cd_fast.enet_coordinate_descent_gram(\n",
            "/Users/gracechongzuting/opt/anaconda3/lib/python3.9/site-packages/sklearn/linear_model/_coordinate_descent.py:633: ConvergenceWarning: Objective did not converge. You might want to increase the number of iterations. Duality gap: 0.3820201658800215, tolerance: 0.12144194996792815\n",
            "  model = cd_fast.enet_coordinate_descent_gram(\n",
            "/Users/gracechongzuting/opt/anaconda3/lib/python3.9/site-packages/sklearn/linear_model/_coordinate_descent.py:633: ConvergenceWarning: Objective did not converge. You might want to increase the number of iterations. Duality gap: 0.33016089557440864, tolerance: 0.12144194996792815\n",
            "  model = cd_fast.enet_coordinate_descent_gram(\n",
            "/Users/gracechongzuting/opt/anaconda3/lib/python3.9/site-packages/sklearn/linear_model/_coordinate_descent.py:633: ConvergenceWarning: Objective did not converge. You might want to increase the number of iterations. Duality gap: 0.364794395519084, tolerance: 0.12144194996792815\n",
            "  model = cd_fast.enet_coordinate_descent_gram(\n",
            "/Users/gracechongzuting/opt/anaconda3/lib/python3.9/site-packages/sklearn/linear_model/_coordinate_descent.py:633: ConvergenceWarning: Objective did not converge. You might want to increase the number of iterations. Duality gap: 0.6312047161238752, tolerance: 0.12144194996792815\n",
            "  model = cd_fast.enet_coordinate_descent_gram(\n",
            "/Users/gracechongzuting/opt/anaconda3/lib/python3.9/site-packages/sklearn/linear_model/_coordinate_descent.py:633: ConvergenceWarning: Objective did not converge. You might want to increase the number of iterations. Duality gap: 0.4609748720773723, tolerance: 0.12144194996792815\n",
            "  model = cd_fast.enet_coordinate_descent_gram(\n",
            "/Users/gracechongzuting/opt/anaconda3/lib/python3.9/site-packages/sklearn/linear_model/_coordinate_descent.py:633: ConvergenceWarning: Objective did not converge. You might want to increase the number of iterations. Duality gap: 0.4880646109609188, tolerance: 0.12144194996792815\n",
            "  model = cd_fast.enet_coordinate_descent_gram(\n",
            "/Users/gracechongzuting/opt/anaconda3/lib/python3.9/site-packages/sklearn/linear_model/_coordinate_descent.py:633: ConvergenceWarning: Objective did not converge. You might want to increase the number of iterations. Duality gap: 0.4962268109300112, tolerance: 0.12144194996792815\n",
            "  model = cd_fast.enet_coordinate_descent_gram(\n",
            "/Users/gracechongzuting/opt/anaconda3/lib/python3.9/site-packages/sklearn/linear_model/_coordinate_descent.py:633: ConvergenceWarning: Objective did not converge. You might want to increase the number of iterations. Duality gap: 0.5789852984894424, tolerance: 0.12144194996792815\n",
            "  model = cd_fast.enet_coordinate_descent_gram(\n",
            "/Users/gracechongzuting/opt/anaconda3/lib/python3.9/site-packages/sklearn/linear_model/_coordinate_descent.py:633: ConvergenceWarning: Objective did not converge. You might want to increase the number of iterations. Duality gap: 0.7125739115817851, tolerance: 0.12144194996792815\n",
            "  model = cd_fast.enet_coordinate_descent_gram(\n",
            "/Users/gracechongzuting/opt/anaconda3/lib/python3.9/site-packages/sklearn/linear_model/_coordinate_descent.py:633: ConvergenceWarning: Objective did not converge. You might want to increase the number of iterations. Duality gap: 2.817600515668232, tolerance: 0.12144194996792815\n",
            "  model = cd_fast.enet_coordinate_descent_gram(\n",
            "/Users/gracechongzuting/opt/anaconda3/lib/python3.9/site-packages/sklearn/linear_model/_coordinate_descent.py:633: ConvergenceWarning: Objective did not converge. You might want to increase the number of iterations. Duality gap: 6.283968800447724, tolerance: 0.12144194996792815\n",
            "  model = cd_fast.enet_coordinate_descent_gram(\n",
            "/Users/gracechongzuting/opt/anaconda3/lib/python3.9/site-packages/sklearn/linear_model/_coordinate_descent.py:633: ConvergenceWarning: Objective did not converge. You might want to increase the number of iterations. Duality gap: 7.9656797118950635, tolerance: 0.12144194996792815\n",
            "  model = cd_fast.enet_coordinate_descent_gram(\n",
            "/Users/gracechongzuting/opt/anaconda3/lib/python3.9/site-packages/sklearn/linear_model/_coordinate_descent.py:633: ConvergenceWarning: Objective did not converge. You might want to increase the number of iterations. Duality gap: 0.1633258144950105, tolerance: 0.11676307692307683\n",
            "  model = cd_fast.enet_coordinate_descent_gram(\n",
            "/Users/gracechongzuting/opt/anaconda3/lib/python3.9/site-packages/sklearn/linear_model/_coordinate_descent.py:633: ConvergenceWarning: Objective did not converge. You might want to increase the number of iterations. Duality gap: 0.12745613295533076, tolerance: 0.11676307692307683\n",
            "  model = cd_fast.enet_coordinate_descent_gram(\n",
            "/Users/gracechongzuting/opt/anaconda3/lib/python3.9/site-packages/sklearn/linear_model/_coordinate_descent.py:633: ConvergenceWarning: Objective did not converge. You might want to increase the number of iterations. Duality gap: 0.5187569487969768, tolerance: 0.11676307692307683\n",
            "  model = cd_fast.enet_coordinate_descent_gram(\n",
            "/Users/gracechongzuting/opt/anaconda3/lib/python3.9/site-packages/sklearn/linear_model/_coordinate_descent.py:633: ConvergenceWarning: Objective did not converge. You might want to increase the number of iterations. Duality gap: 0.7871093561625457, tolerance: 0.11676307692307683\n",
            "  model = cd_fast.enet_coordinate_descent_gram(\n",
            "/Users/gracechongzuting/opt/anaconda3/lib/python3.9/site-packages/sklearn/linear_model/_coordinate_descent.py:633: ConvergenceWarning: Objective did not converge. You might want to increase the number of iterations. Duality gap: 0.9151035245358798, tolerance: 0.11676307692307683\n",
            "  model = cd_fast.enet_coordinate_descent_gram(\n",
            "/Users/gracechongzuting/opt/anaconda3/lib/python3.9/site-packages/sklearn/linear_model/_coordinate_descent.py:633: ConvergenceWarning: Objective did not converge. You might want to increase the number of iterations. Duality gap: 0.7004320959786128, tolerance: 0.11676307692307683\n",
            "  model = cd_fast.enet_coordinate_descent_gram(\n",
            "/Users/gracechongzuting/opt/anaconda3/lib/python3.9/site-packages/sklearn/linear_model/_coordinate_descent.py:633: ConvergenceWarning: Objective did not converge. You might want to increase the number of iterations. Duality gap: 0.7460332757697188, tolerance: 0.11676307692307683\n",
            "  model = cd_fast.enet_coordinate_descent_gram(\n",
            "/Users/gracechongzuting/opt/anaconda3/lib/python3.9/site-packages/sklearn/linear_model/_coordinate_descent.py:633: ConvergenceWarning: Objective did not converge. You might want to increase the number of iterations. Duality gap: 0.871287743909761, tolerance: 0.11676307692307683\n",
            "  model = cd_fast.enet_coordinate_descent_gram(\n",
            "/Users/gracechongzuting/opt/anaconda3/lib/python3.9/site-packages/sklearn/linear_model/_coordinate_descent.py:633: ConvergenceWarning: Objective did not converge. You might want to increase the number of iterations. Duality gap: 0.7502001828798939, tolerance: 0.11676307692307683\n",
            "  model = cd_fast.enet_coordinate_descent_gram(\n",
            "/Users/gracechongzuting/opt/anaconda3/lib/python3.9/site-packages/sklearn/linear_model/_coordinate_descent.py:633: ConvergenceWarning: Objective did not converge. You might want to increase the number of iterations. Duality gap: 0.7258801107144564, tolerance: 0.11676307692307683\n",
            "  model = cd_fast.enet_coordinate_descent_gram(\n",
            "/Users/gracechongzuting/opt/anaconda3/lib/python3.9/site-packages/sklearn/linear_model/_coordinate_descent.py:633: ConvergenceWarning: Objective did not converge. You might want to increase the number of iterations. Duality gap: 0.7673623394081233, tolerance: 0.11676307692307683\n",
            "  model = cd_fast.enet_coordinate_descent_gram(\n",
            "/Users/gracechongzuting/opt/anaconda3/lib/python3.9/site-packages/sklearn/linear_model/_coordinate_descent.py:633: ConvergenceWarning: Objective did not converge. You might want to increase the number of iterations. Duality gap: 1.2274200853340744, tolerance: 0.11676307692307683\n",
            "  model = cd_fast.enet_coordinate_descent_gram(\n",
            "/Users/gracechongzuting/opt/anaconda3/lib/python3.9/site-packages/sklearn/linear_model/_coordinate_descent.py:633: ConvergenceWarning: Objective did not converge. You might want to increase the number of iterations. Duality gap: 1.3321331231481963, tolerance: 0.11676307692307683\n",
            "  model = cd_fast.enet_coordinate_descent_gram(\n",
            "/Users/gracechongzuting/opt/anaconda3/lib/python3.9/site-packages/sklearn/linear_model/_coordinate_descent.py:633: ConvergenceWarning: Objective did not converge. You might want to increase the number of iterations. Duality gap: 1.2248453214463098, tolerance: 0.11676307692307683\n",
            "  model = cd_fast.enet_coordinate_descent_gram(\n",
            "/Users/gracechongzuting/opt/anaconda3/lib/python3.9/site-packages/sklearn/linear_model/_coordinate_descent.py:647: ConvergenceWarning: Objective did not converge. You might want to increase the number of iterations, check the scale of the features or consider increasing regularisation. Duality gap: 1.523e-01, tolerance: 1.462e-01\n",
            "  model = cd_fast.enet_coordinate_descent(\n"
          ]
        },
        {
          "data": {
            "text/plain": [
              "LassoCV(alphas=array([1.00000000e-03, 1.09749877e-03, 1.20450354e-03, 1.32194115e-03,\n",
              "       1.45082878e-03, 1.59228279e-03, 1.74752840e-03, 1.91791026e-03,\n",
              "       2.10490414e-03, 2.31012970e-03, 2.53536449e-03, 2.78255940e-03,\n",
              "       3.05385551e-03, 3.35160265e-03, 3.67837977e-03, 4.03701726e-03,\n",
              "       4.43062146e-03, 4.86260158e-03, 5.33669923e-03, 5.85702082e-03,\n",
              "       6.42807312e-03, 7.05480231e-0...\n",
              "       1.17681195e+00, 1.29154967e+00, 1.41747416e+00, 1.55567614e+00,\n",
              "       1.70735265e+00, 1.87381742e+00, 2.05651231e+00, 2.25701972e+00,\n",
              "       2.47707636e+00, 2.71858824e+00, 2.98364724e+00, 3.27454916e+00,\n",
              "       3.59381366e+00, 3.94420606e+00, 4.32876128e+00, 4.75081016e+00,\n",
              "       5.21400829e+00, 5.72236766e+00, 6.28029144e+00, 6.89261210e+00,\n",
              "       7.56463328e+00, 8.30217568e+00, 9.11162756e+00, 1.00000000e+01]),\n",
              "        cv=5, max_iter=500)"
            ]
          },
          "execution_count": 1070,
          "metadata": {},
          "output_type": "execute_result"
        }
      ],
      "source": [
        "\n",
        "\n",
        "# Fit model using best ridge alpha!\n",
        "lasso_cv.fit(Z_train,y_train)"
      ]
    },
    {
      "cell_type": "code",
      "execution_count": 1071,
      "metadata": {},
      "outputs": [
        {
          "name": "stdout",
          "output_type": "stream",
          "text": [
            "0.3362137024305474\n",
            "0.2860461159944673\n"
          ]
        }
      ],
      "source": [
        "print(f'{lasso_cv.score(Z_train,y_train)}')\n",
        "print(f'{lasso_cv.score(Z_test,y_test)}')"
      ]
    },
    {
      "cell_type": "code",
      "execution_count": 1072,
      "metadata": {},
      "outputs": [
        {
          "name": "stdout",
          "output_type": "stream",
          "text": [
            "====================== OLS regression ======================\n",
            "the OLS trained score is 0.4069819524268309\n",
            " the OLS test score is 0.22021547039848244\n",
            "===================== Ridge regression =====================\n",
            "the Trained Ridge model is 0.34845153627219105\n",
            "the Test Ridge model is 0.2948887163699776\n",
            "===================== Lasso regression =====================\n",
            "the Trained Lasso model is 0.3362137024305474\n",
            "the Test Lasso model is 0.2860461159944673\n"
          ]
        }
      ],
      "source": [
        "print(\" OLS regression \".center(60, \"=\"))\n",
        "print(f'the OLS trained score is {ols.score(Z_train,y_train)}')\n",
        "print(f\" the OLS test score is {ols.score(Z_test,y_test)}\")\n",
        "\n",
        "print(\" Ridge regression \".center(60, \"=\"))\n",
        "print(f'the Trained Ridge model is {alpha_cv.score(Z_train,y_train)}')\n",
        "print(f'the Test Ridge model is {alpha_cv.score(Z_test,y_test)}')\n",
        "\n",
        "print(\" Lasso regression \".center(60, \"=\"))\n",
        "print(f'the Trained Lasso model is {lasso_cv.score(Z_train,y_train)}')\n",
        "print(f'the Test Lasso model is {lasso_cv.score(Z_test,y_test)}')"
      ]
    },
    {
      "cell_type": "code",
      "execution_count": 1073,
      "metadata": {},
      "outputs": [
        {
          "data": {
            "text/plain": [
              "0.007742636826811269"
            ]
          },
          "execution_count": 1073,
          "metadata": {},
          "output_type": "execute_result"
        }
      ],
      "source": [
        "lasso_cv.alpha_"
      ]
    }
  ],
  "metadata": {
    "colab": {
      "collapsed_sections": [],
      "provenance": []
    },
    "kernelspec": {
      "display_name": "Python 3.9.12 ('base')",
      "language": "python",
      "name": "python3"
    },
    "language_info": {
      "codemirror_mode": {
        "name": "ipython",
        "version": 3
      },
      "file_extension": ".py",
      "mimetype": "text/x-python",
      "name": "python",
      "nbconvert_exporter": "python",
      "pygments_lexer": "ipython3",
      "version": "3.9.12"
    },
    "vscode": {
      "interpreter": {
        "hash": "a0e05950b156e14bfd14a3986910df437e0c0ff6f27fa95973a8b83e252441dd"
      }
    }
  },
  "nbformat": 4,
  "nbformat_minor": 0
}
